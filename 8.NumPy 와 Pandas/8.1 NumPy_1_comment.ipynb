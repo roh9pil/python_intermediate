{
  "nbformat": 4,
  "nbformat_minor": 0,
  "metadata": {
    "kernelspec": {
      "display_name": "Python 3",
      "language": "python",
      "name": "python3"
    },
    "language_info": {
      "codemirror_mode": {
        "name": "ipython",
        "version": 3
      },
      "file_extension": ".py",
      "mimetype": "text/x-python",
      "name": "python",
      "nbconvert_exporter": "python",
      "pygments_lexer": "ipython3",
      "version": "3.7.6"
    },
    "colab": {
      "name": "8.1 NumPy_1.ipynb",
      "provenance": []
    }
  },
  "cells": [
    {
      "cell_type": "markdown",
      "metadata": {
        "id": "LJeuBAlRg9N4"
      },
      "source": [
        "# NumPy"
      ]
    },
    {
      "cell_type": "markdown",
      "metadata": {
        "id": "cEILsZwhg9N7"
      },
      "source": [
        "## Array 정의 및 사용하기"
      ]
    },
    {
      "cell_type": "code",
      "metadata": {
        "id": "YRFKtu7yg9N9",
        "outputId": "56f5c0db-0160-4da1-816f-d8f0b08caa6c",
        "colab": {
          "base_uri": "https://localhost:8080/",
          "height": 68
        }
      },
      "source": [
        "import numpy as np\n",
        " \n",
        "list1 = [1, 2, 3, 4]\n",
        "a = np.array(list1)\n",
        "print(a.shape) \n",
        " \n",
        "b = np.array([[1,2,3],[4,5,6]])\n",
        "print(b.shape) \n",
        "print(b[0,0])  "
      ],
      "execution_count": 1,
      "outputs": [
        {
          "output_type": "stream",
          "text": [
            "(4,)\n",
            "(2, 3)\n",
            "1\n"
          ],
          "name": "stdout"
        }
      ]
    },
    {
      "cell_type": "code",
      "metadata": {
        "id": "2wntzO3Rg9OI",
        "outputId": "2dd54572-ccff-404b-8a84-80983481f0c5",
        "colab": {
          "base_uri": "https://localhost:8080/",
          "height": 306
        }
      },
      "source": [
        "import numpy as np\n",
        " \n",
        "a = np.zeros((2,2))\n",
        "print(a)\n",
        " \n",
        "a = np.ones((2,3))\n",
        "print(a)\n",
        " \n",
        "a = np.full((2,3), 5)\n",
        "print(a)\n",
        " \n",
        "a = np.eye(3)\n",
        "print(a)\n",
        " \n",
        "a = np.array(np.arange(20)).reshape((4,5))\n",
        "print(a)\n",
        "\n",
        "a = np.array(range(20)).reshape((4,5))\n",
        "print(a)"
      ],
      "execution_count": 5,
      "outputs": [
        {
          "output_type": "stream",
          "text": [
            "[[0. 0.]\n",
            " [0. 0.]]\n",
            "[[1. 1. 1.]\n",
            " [1. 1. 1.]]\n",
            "[[5 5 5]\n",
            " [5 5 5]]\n",
            "[[1. 0. 0.]\n",
            " [0. 1. 0.]\n",
            " [0. 0. 1.]]\n",
            "[[ 0  1  2  3  4]\n",
            " [ 5  6  7  8  9]\n",
            " [10 11 12 13 14]\n",
            " [15 16 17 18 19]]\n",
            "[[ 0  1  2  3  4]\n",
            " [ 5  6  7  8  9]\n",
            " [10 11 12 13 14]\n",
            " [15 16 17 18 19]]\n"
          ],
          "name": "stdout"
        }
      ]
    },
    {
      "cell_type": "markdown",
      "metadata": {
        "id": "hknIpBncg9OO"
      },
      "source": [
        "## NumPy 슬라이싱"
      ]
    },
    {
      "cell_type": "code",
      "metadata": {
        "id": "gWY9ioHBg9OP",
        "outputId": "cdfedd45-1e58-4bda-faa3-50fe0fa621f2",
        "colab": {
          "base_uri": "https://localhost:8080/",
          "height": 85
        }
      },
      "source": [
        "import numpy as np\n",
        " \n",
        "lst = [\n",
        "    [1, 2, 3],\n",
        "    [4, 5, 6],\n",
        "    [7, 8, 9]\n",
        "]\n",
        "arr = np.array(lst)\n",
        " \n",
        "a = arr[0:2, 0:2]\n",
        "print(a)\n",
        " \n",
        "a = arr[1:, 1:]\n",
        "print(a)"
      ],
      "execution_count": 6,
      "outputs": [
        {
          "output_type": "stream",
          "text": [
            "[[1 2]\n",
            " [4 5]]\n",
            "[[5 6]\n",
            " [8 9]]\n"
          ],
          "name": "stdout"
        }
      ]
    },
    {
      "cell_type": "markdown",
      "metadata": {
        "id": "8IygN0dZg9OV"
      },
      "source": [
        "## NumPy 정수 인덱싱\n",
        "* a[[row1, row2], [col1, col2]] 와 같이 표현\n",
        "* a[row1, col1] 과 a[row2, col2] 라는 두 개의 배열요소의 집합을 의미\n",
        "* [row] 갯수는 1이거나 col의 갯수와 동일하게, [col] 도 마찬가지"
      ]
    },
    {
      "cell_type": "code",
      "metadata": {
        "id": "7RO6i9Ocg9OW",
        "outputId": "e5062d23-88db-43cd-918f-493cf99ff2dd",
        "colab": {
          "base_uri": "https://localhost:8080/",
          "height": 85
        }
      },
      "source": [
        "import numpy as np\n",
        " \n",
        "lst = [\n",
        "    [1, 2, 3, 4],\n",
        "    [5, 6, 7, 8],\n",
        "    [9, 10, 11, 12]\n",
        "]\n",
        "a = np.array(lst)\n",
        " \n",
        "#s = a[[0, 2], [1, 3]]\n",
        "s = a[[0,1]] # row 0, row 1\n",
        "print(s)\n",
        "s = a[[1],[2,2,3]]\n",
        "print(s)\n",
        "s = a[[0,1,2],[2]]\n",
        "print(s)"
      ],
      "execution_count": 27,
      "outputs": [
        {
          "output_type": "stream",
          "text": [
            "[[1 2 3 4]\n",
            " [5 6 7 8]]\n",
            "[7 7 8]\n",
            "[ 3  7 11]\n"
          ],
          "name": "stdout"
        }
      ]
    },
    {
      "cell_type": "markdown",
      "metadata": {
        "id": "AVvs5q6fg9Ob"
      },
      "source": [
        "## NumPy 부울린 인덱싱"
      ]
    },
    {
      "cell_type": "code",
      "metadata": {
        "id": "f8DeOlM0g9Oc",
        "outputId": "dd51dc75-06c4-4b37-c49e-3cb6130542f7",
        "colab": {
          "base_uri": "https://localhost:8080/",
          "height": 34
        }
      },
      "source": [
        "import numpy as np\n",
        " \n",
        "lst = [\n",
        "    [1, 2, 3],\n",
        "    [4, 5, 6],\n",
        "    [7, 8, 9]\n",
        "]\n",
        "a = np.array(lst)\n",
        " \n",
        "bool_indexing_array = np.array([\n",
        "    [False,  True, False],\n",
        "    [True, False,  True],\n",
        "    [False,  True, False]\n",
        "])\n",
        " \n",
        "n = a[bool_indexing_array];\n",
        "print(n)  "
      ],
      "execution_count": 28,
      "outputs": [
        {
          "output_type": "stream",
          "text": [
            "[2 4 6 8]\n"
          ],
          "name": "stdout"
        }
      ]
    },
    {
      "cell_type": "code",
      "metadata": {
        "id": "IehZIwj2g9Oh",
        "outputId": "070e263e-04e4-48a3-8922-142bc014b6dd",
        "colab": {
          "base_uri": "https://localhost:8080/",
          "height": 102
        }
      },
      "source": [
        "import numpy as np\n",
        " \n",
        "lst = [\n",
        "    [1, 2, 3],\n",
        "    [4, 5, 6],\n",
        "    [7, 8, 9]\n",
        "]\n",
        "a = np.array(lst)\n",
        " \n",
        "bool_indexing = (a % 2 == 0)\n",
        " \n",
        "print(bool_indexing)\n",
        "\n",
        "print(a[bool_indexing])\n",
        "\n",
        "n = a[ a % 2 == 0 ]\n",
        "print(n)"
      ],
      "execution_count": 29,
      "outputs": [
        {
          "output_type": "stream",
          "text": [
            "[[False  True False]\n",
            " [ True False  True]\n",
            " [False  True False]]\n",
            "[2 4 6 8]\n",
            "[2 4 6 8]\n"
          ],
          "name": "stdout"
        }
      ]
    }
  ]
}