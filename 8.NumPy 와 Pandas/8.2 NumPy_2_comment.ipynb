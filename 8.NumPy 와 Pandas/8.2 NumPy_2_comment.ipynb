{
  "nbformat": 4,
  "nbformat_minor": 0,
  "metadata": {
    "kernelspec": {
      "display_name": "Python 3",
      "language": "python",
      "name": "python3"
    },
    "language_info": {
      "codemirror_mode": {
        "name": "ipython",
        "version": 3
      },
      "file_extension": ".py",
      "mimetype": "text/x-python",
      "name": "python",
      "nbconvert_exporter": "python",
      "pygments_lexer": "ipython3",
      "version": "3.7.6"
    },
    "colab": {
      "name": "8.2 NumPy_2.ipynb",
      "provenance": []
    }
  },
  "cells": [
    {
      "cell_type": "markdown",
      "metadata": {
        "id": "uBj8hmCmOK2r"
      },
      "source": [
        "# NumPy"
      ]
    },
    {
      "cell_type": "markdown",
      "metadata": {
        "id": "ag5ItP5BOK2s"
      },
      "source": [
        "## NumPy 연산"
      ]
    },
    {
      "cell_type": "code",
      "metadata": {
        "id": "NA3VNipCOK2t",
        "outputId": "b63225eb-3595-4c35-a37d-cda0a1c95342",
        "colab": {
          "base_uri": "https://localhost:8080/",
          "height": 85
        }
      },
      "source": [
        "import numpy as np\n",
        " \n",
        "a = np.array([1,2,3])\n",
        "b = np.array([4,5,6])\n",
        " \n",
        "c = a + b\n",
        "print(c)\n",
        " \n",
        "c = a - b\n",
        "print(c)\n",
        " \n",
        "c = np.multiply(a, b)\n",
        "print(c)\n",
        " \n",
        "c = np.divide(a, b)\n",
        "print(c)"
      ],
      "execution_count": 1,
      "outputs": [
        {
          "output_type": "stream",
          "text": [
            "[5 7 9]\n",
            "[-3 -3 -3]\n",
            "[ 4 10 18]\n",
            "[0.25 0.4  0.5 ]\n"
          ],
          "name": "stdout"
        }
      ]
    },
    {
      "cell_type": "markdown",
      "metadata": {
        "id": "tZ6QYUMNOK21"
      },
      "source": [
        "## 브로드 캐스팅\n",
        "* np.empty_like(x): returns array of uninitialized (arbitrary) data with the same shape and type as prototype."
      ]
    },
    {
      "cell_type": "code",
      "metadata": {
        "id": "yg6JX00DOK22",
        "outputId": "f2110b73-7511-478d-d979-3b408e237854",
        "colab": {
          "base_uri": "https://localhost:8080/",
          "height": 238
        }
      },
      "source": [
        "import numpy as np\n",
        "\n",
        "x = np.array([[1,2,3], [4,5,6], [7,8,9], [10, 11, 12]])\n",
        "v = np.array([1, 0, 1])\n",
        "y = np.empty_like(x)   \n",
        "print(x)\n",
        "print(v)\n",
        "print(y)\n",
        "for i in range(4):\n",
        "    y[i, :] = x[i, :] + v\n",
        "\n",
        "print(y)"
      ],
      "execution_count": 3,
      "outputs": [
        {
          "output_type": "stream",
          "text": [
            "[[ 1  2  3]\n",
            " [ 4  5  6]\n",
            " [ 7  8  9]\n",
            " [10 11 12]]\n",
            "[1 0 1]\n",
            "[[ 1  2  3]\n",
            " [ 4  5  6]\n",
            " [ 7  8  9]\n",
            " [10 11 12]]\n",
            "[[ 2  2  4]\n",
            " [ 5  5  7]\n",
            " [ 8  8 10]\n",
            " [11 11 13]]\n"
          ],
          "name": "stdout"
        }
      ]
    },
    {
      "cell_type": "markdown",
      "metadata": {
        "id": "ZvVm5-wgSwIt"
      },
      "source": [
        "* np.tile (v, reps): v array 를 tile 처럼 붙여서 다른 shape의 array로 만드는 것\n",
        "* reps에 따라 모양이 바뀌는데, v 랑 reps의 dimension이 다르면, 1을 앞에 padding 시킨다. \n",
        "  * np.tile(x, (3,)): x는 2D, (3,)은 1D, (3,) -> (1,3) 으로 처리: 오른쪽으로 3개 붙이는 것"
      ]
    },
    {
      "cell_type": "code",
      "metadata": {
        "id": "5VcTjv40OK26",
        "outputId": "c3c7c424-5559-482b-aeb6-3d164cf1077b",
        "colab": {
          "base_uri": "https://localhost:8080/",
          "height": 238
        }
      },
      "source": [
        "import numpy as np\n",
        "\n",
        "x = np.array([[1,2,3], [4,5,6], [7,8,9], [10, 11, 12]])\n",
        "v = np.array([1, 0, 1])\n",
        "vv = np.tile(v, (4, 1))  \n",
        "print(vv)                 \n",
        "y = x + vv  \n",
        "print(y) \n",
        "vvv = np.tile( x, (3,))\n",
        "print(vvv)\n",
        "print(x.ndim)\n"
      ],
      "execution_count": 19,
      "outputs": [
        {
          "output_type": "stream",
          "text": [
            "[[1 0 1]\n",
            " [1 0 1]\n",
            " [1 0 1]\n",
            " [1 0 1]]\n",
            "[[ 2  2  4]\n",
            " [ 5  5  7]\n",
            " [ 8  8 10]\n",
            " [11 11 13]]\n",
            "[[ 1  2  3  1  2  3  1  2  3]\n",
            " [ 4  5  6  4  5  6  4  5  6]\n",
            " [ 7  8  9  7  8  9  7  8  9]\n",
            " [10 11 12 10 11 12 10 11 12]]\n",
            "2\n"
          ],
          "name": "stdout"
        }
      ]
    },
    {
      "cell_type": "markdown",
      "metadata": {
        "id": "buF0Fs9mTyiS"
      },
      "source": [
        "* column 갯수가 같아야 함, 아니면 ValueError가 발생"
      ]
    },
    {
      "cell_type": "code",
      "metadata": {
        "id": "ujY0aYLPOK29",
        "outputId": "f84427bf-bc4f-48ad-8f7f-75dfffe53f7c",
        "colab": {
          "base_uri": "https://localhost:8080/",
          "height": 85
        }
      },
      "source": [
        "import numpy as np\n",
        "\n",
        "x = np.array([[1,2,3], [4,5,6], [7,8,9], [10, 11, 12]])\n",
        "v = np.array([1, 0, 1])\n",
        "y = x + v  \n",
        "print(y)"
      ],
      "execution_count": 22,
      "outputs": [
        {
          "output_type": "stream",
          "text": [
            "[[ 2  2  4]\n",
            " [ 5  5  7]\n",
            " [ 8  8 10]\n",
            " [11 11 13]]\n"
          ],
          "name": "stdout"
        }
      ]
    },
    {
      "cell_type": "code",
      "metadata": {
        "id": "Vyd9w-h7OK3B",
        "outputId": "cc2019c0-7f73-41f7-c8dd-0e69e131b8f7",
        "colab": {
          "base_uri": "https://localhost:8080/",
          "height": 255
        }
      },
      "source": [
        "import numpy as np\n",
        "\n",
        "v = np.array([1,2,3])\n",
        "w = np.array([4,5])  \n",
        "print(np.reshape(v, (3,1))) # (3,1) * (1,2) = (3,2)\n",
        "print(np.reshape(v, (3, 1)) * w)\n",
        "\n",
        "x = np.array([[1,2,3], [4,5,6]])\n",
        "print(x + v)\n",
        "\n",
        "print((x.T + w).T)\n",
        "print(x + np.reshape(w, (2, 1)))\n",
        "\n",
        "print(x * 2)"
      ],
      "execution_count": 25,
      "outputs": [
        {
          "output_type": "stream",
          "text": [
            "[[1]\n",
            " [2]\n",
            " [3]]\n",
            "[[ 4  5]\n",
            " [ 8 10]\n",
            " [12 15]]\n",
            "[[2 4 6]\n",
            " [5 7 9]]\n",
            "[[ 5  6  7]\n",
            " [ 9 10 11]]\n",
            "[[ 5  6  7]\n",
            " [ 9 10 11]]\n",
            "[[ 2  4  6]\n",
            " [ 8 10 12]]\n"
          ],
          "name": "stdout"
        }
      ]
    },
    {
      "cell_type": "markdown",
      "metadata": {
        "id": "ayBGM8jCOK3E"
      },
      "source": [
        "## 행렬 곱 연산"
      ]
    },
    {
      "cell_type": "code",
      "metadata": {
        "id": "r5ja-lXrOK3F",
        "outputId": "20d8c1d9-8ac9-4683-dd41-b54694479b7a"
      },
      "source": [
        "import numpy as np\n",
        " \n",
        "lst1 = [\n",
        "    [1,2],\n",
        "    [3,4]\n",
        "]\n",
        " \n",
        "lst2 = [\n",
        "    [5,6],\n",
        "    [7,8]\n",
        "]\n",
        "a = np.array(lst1)\n",
        "b = np.array(lst2)\n",
        " \n",
        "c = np.dot(a, b)\n",
        "print(c)"
      ],
      "execution_count": null,
      "outputs": [
        {
          "output_type": "stream",
          "text": [
            "[[19 22]\n",
            " [43 50]]\n"
          ],
          "name": "stdout"
        }
      ]
    },
    {
      "cell_type": "markdown",
      "metadata": {
        "id": "zay5yqPGOK3J"
      },
      "source": [
        "## 행렬 전치\n",
        "* Transposing a 1-D array returns an unchanged view of the original array."
      ]
    },
    {
      "cell_type": "code",
      "metadata": {
        "id": "8pSdOFnAOK3J",
        "outputId": "827c2cc5-b6b3-42e3-9a12-74b746d9ccc9",
        "colab": {
          "base_uri": "https://localhost:8080/",
          "height": 136
        }
      },
      "source": [
        "import numpy as np\n",
        "\n",
        "x = np.array([[1,2], [3,4]])\n",
        "print(x)    \n",
        "           \n",
        "print(x.T)  \n",
        "           \n",
        "\n",
        "v = np.array([1,2,3])\n",
        "print(v.shape)\n",
        "print(v.ndim)\n",
        "print(v.T)"
      ],
      "execution_count": 38,
      "outputs": [
        {
          "output_type": "stream",
          "text": [
            "[[1 2]\n",
            " [3 4]]\n",
            "[[1 3]\n",
            " [2 4]]\n",
            "(3,)\n",
            "1\n",
            "[1 2 3]\n"
          ],
          "name": "stdout"
        }
      ]
    },
    {
      "cell_type": "markdown",
      "metadata": {
        "id": "59mDXqyZOK3N"
      },
      "source": [
        "## 행렬 열간, 행간 통계"
      ]
    },
    {
      "cell_type": "code",
      "metadata": {
        "id": "6ko2MV2eOK3O",
        "outputId": "2354a40c-6d59-47ab-93b7-04b553ba8e58",
        "colab": {
          "base_uri": "https://localhost:8080/",
          "height": 119
        }
      },
      "source": [
        "import numpy as np\n",
        " \n",
        "a = np.array([[1,2],[3,4]])\n",
        " \n",
        "s = np.sum(a)\n",
        "print(s)   \n",
        " \n",
        "s = np.sum(a, axis=0) # c0lumn-wise\n",
        "print(s)   \n",
        " \n",
        "s = np.sum(a, axis=1) # 1row-wise\n",
        "print(s)   \n",
        " \n",
        "s = np.prod(a)\n",
        "print(s)   \n",
        "print(np.prod(a, axis=0))\n",
        "print(np.prod(a, axis=1))"
      ],
      "execution_count": 41,
      "outputs": [
        {
          "output_type": "stream",
          "text": [
            "10\n",
            "[4 6]\n",
            "[3 7]\n",
            "24\n",
            "[3 8]\n",
            "[ 2 12]\n"
          ],
          "name": "stdout"
        }
      ]
    },
    {
      "cell_type": "code",
      "metadata": {
        "id": "13EmnZlBZqUe"
      },
      "source": [
        ""
      ],
      "execution_count": null,
      "outputs": []
    }
  ]
}