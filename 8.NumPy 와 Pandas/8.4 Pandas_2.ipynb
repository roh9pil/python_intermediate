{
  "nbformat": 4,
  "nbformat_minor": 0,
  "metadata": {
    "kernelspec": {
      "display_name": "Python 3",
      "language": "python",
      "name": "python3"
    },
    "language_info": {
      "codemirror_mode": {
        "name": "ipython",
        "version": 3
      },
      "file_extension": ".py",
      "mimetype": "text/x-python",
      "name": "python",
      "nbconvert_exporter": "python",
      "pygments_lexer": "ipython3",
      "version": "3.7.6"
    },
    "colab": {
      "name": "8.4 Pandas_2.ipynb",
      "provenance": [],
      "toc_visible": true
    }
  },
  "cells": [
    {
      "cell_type": "markdown",
      "metadata": {
        "id": "HTf8Dfa5m7mg"
      },
      "source": [
        "# Pandas"
      ]
    },
    {
      "cell_type": "markdown",
      "metadata": {
        "id": "4ROcFL-7m7mk"
      },
      "source": [
        "## 데이터프레임의 열 다루기"
      ]
    },
    {
      "cell_type": "code",
      "metadata": {
        "id": "NOBCG7hWm7ml",
        "outputId": "3be2cae0-c7d0-4b8f-ccd1-570d502ce9dc",
        "colab": {
          "base_uri": "https://localhost:8080/",
          "height": 170
        }
      },
      "source": [
        "import pandas as pd\n",
        "\n",
        "dict_data = {'c0':[1,2,3], 'c1':[4, 5, 6]} \n",
        "df = pd.DataFrame(dict_data, index=['r0', 'r1', 'r2'])  \n",
        "#print(df, \"\\n\") \n",
        "\n",
        "col0 = df['c0']\n",
        "col1 = df.c1\n",
        "\n",
        "#print(col0, \"\\n\")\n",
        "#print(col1, \"\\n\")\n",
        "\n",
        "df['c2'] = 7, 8, 9\n",
        "df['c2'] = (7,8,9)\n",
        "#print(df, \"\\n\") \n",
        "\n",
        "df['c3'] = 0\n",
        "df['c3'] = 100\n",
        "#print(df, \"\\n\") \n",
        "\n",
        "df['c4'] = df['c3']\n",
        "#print(df, \"\\n\") \n",
        "\n",
        "df['c3'] = 10, 11, 12\n",
        "#print(df, \"\\n\") \n",
        "\n",
        "df['c3'] = 0\n",
        "#print(df, \"\\n\") \n",
        "\n",
        "# axis는 0일때 row, 1일때 column인데, default는 0\n",
        "#df.drop('c2', axis=1)\n",
        "df.drop('c2', axis=1, inplace=True)\n",
        "print(df, \"\\n\") \n",
        "\n",
        "df.drop(['c1','c3'], axis=1, inplace=True)\n",
        "print(df) "
      ],
      "execution_count": 13,
      "outputs": [
        {
          "output_type": "stream",
          "text": [
            "    c0  c1  c3   c4\n",
            "r0   1   4   0  100\n",
            "r1   2   5   0  100\n",
            "r2   3   6   0  100 \n",
            "\n",
            "    c0   c4\n",
            "r0   1  100\n",
            "r1   2  100\n",
            "r2   3  100\n"
          ],
          "name": "stdout"
        }
      ]
    },
    {
      "cell_type": "markdown",
      "metadata": {
        "id": "IE5FA-7nm7ms"
      },
      "source": [
        "## 데이터프레임의 행 다루기"
      ]
    },
    {
      "cell_type": "code",
      "metadata": {
        "id": "npbCYUTam7mt",
        "outputId": "f53d05c0-8cc9-4bad-90f0-427e75b1c095",
        "colab": {
          "base_uri": "https://localhost:8080/",
          "height": 799
        }
      },
      "source": [
        "import pandas as pd\n",
        "\n",
        "dict_data = {'c0':[1,2,3], 'c1':[4, 5, 6]} \n",
        "df = pd.DataFrame(dict_data, index=['r0', 'r1', 'r2'])  \n",
        "print(df, \"\\n\") \n",
        "\n",
        "#iloc는 순서 인덱스로 row를 접근하는 방법, 0번째 1번째\n",
        "# loc는 i가 없이 index 칼럼의 value로 접근하는 방법임\n",
        "row0 = df.iloc[0]\n",
        "row1 = df.iloc[1]\n",
        "row2 = df.loc['r2']\n",
        "\n",
        "print(row0, \"\\n\")\n",
        "print(row1, \"\\n\")\n",
        "print(row2, \"\\n\")\n",
        "\n",
        "df.loc['r3'] = 10, 20\n",
        "print(df, \"\\n\") \n",
        "\n",
        "df.loc['r4'] = 0\n",
        "print(df, \"\\n\") \n",
        "\n",
        "df.loc['r3'] = df.loc['r4']\n",
        "print(df, \"\\n\") \n",
        "\n",
        "df.drop('r4', axis=0, inplace=True)\n",
        "print(df, \"\\n\") \n",
        "\n",
        "df.drop(['r1','r3'], axis=0, inplace=True)\n",
        "print(df) "
      ],
      "execution_count": 14,
      "outputs": [
        {
          "output_type": "stream",
          "text": [
            "    c0  c1\n",
            "r0   1   4\n",
            "r1   2   5\n",
            "r2   3   6 \n",
            "\n",
            "c0    1\n",
            "c1    4\n",
            "Name: r0, dtype: int64 \n",
            "\n",
            "c0    2\n",
            "c1    5\n",
            "Name: r1, dtype: int64 \n",
            "\n",
            "c0    3\n",
            "c1    6\n",
            "Name: r2, dtype: int64 \n",
            "\n",
            "    c0  c1\n",
            "r0   1   4\n",
            "r1   2   5\n",
            "r2   3   6\n",
            "r3  10  20 \n",
            "\n",
            "    c0  c1\n",
            "r0   1   4\n",
            "r1   2   5\n",
            "r2   3   6\n",
            "r3  10  20\n",
            "r4   0   0 \n",
            "\n",
            "    c0  c1\n",
            "r0   1   4\n",
            "r1   2   5\n",
            "r2   3   6\n",
            "r3   0   0\n",
            "r4   0   0 \n",
            "\n",
            "    c0  c1\n",
            "r0   1   4\n",
            "r1   2   5\n",
            "r2   3   6\n",
            "r3   0   0 \n",
            "\n",
            "    c0  c1\n",
            "r0   1   4\n",
            "r2   3   6\n"
          ],
          "name": "stdout"
        }
      ]
    },
    {
      "cell_type": "markdown",
      "metadata": {
        "id": "o2rHfhQhm7mx"
      },
      "source": [
        "## 데이터프레임의 원소 다루기"
      ]
    },
    {
      "cell_type": "code",
      "metadata": {
        "id": "nu59th3wm7mx",
        "outputId": "ade319b3-e8e2-48fe-c15b-d53c61cf470b",
        "colab": {
          "base_uri": "https://localhost:8080/",
          "height": 510
        }
      },
      "source": [
        "import pandas as pd\n",
        "\n",
        "dict_data = {'c0':[1,2,3], 'c1':[4, 5, 6]} \n",
        "df = pd.DataFrame(dict_data, index=['r0', 'r1', 'r2'])  \n",
        "print(df, \"\\n\") \n",
        "'''\n",
        "    c0  c1\n",
        "r0   1   4\n",
        "r1   2   5\n",
        "r2   3   6\n",
        "'''\n",
        "# iloc로 접근하면 숫자 인덱스 [s,e) 로 가져오네\n",
        "#  loc 칼럼명으로 접근하면 [s, e] 임\n",
        "\n",
        "el_01 = df.iloc[0:1,0:2]\n",
        "print(el_01, \"\\n\")\n",
        "\n",
        "el_11 = df.iloc[1,1]\n",
        "print(el_11, \"\\n\")\n",
        "\n",
        "el_21 = df.loc['r2','c1']\n",
        "print(el_21, \"\\n\")\n",
        "\n",
        "el_12_01 = df.loc['r1':'r2','c0':'c1']\n",
        "print(el_12_01, \"\\n\")\n",
        "\n",
        "el_12_01_iloc = df.iloc[1:3, 0:2]\n",
        "print(el_12_01, \"\\n\")\n",
        "\n",
        "df.iloc[0,1] = 40\n",
        "print(df, \"\\n\") \n",
        "\n",
        "df.iloc[1:3, 0:2] = 0\n",
        "print(df) "
      ],
      "execution_count": 20,
      "outputs": [
        {
          "output_type": "stream",
          "text": [
            "    c0  c1\n",
            "r0   1   4\n",
            "r1   2   5\n",
            "r2   3   6 \n",
            "\n",
            "    c0  c1\n",
            "r0   1   4 \n",
            "\n",
            "5 \n",
            "\n",
            "6 \n",
            "\n",
            "    c0  c1\n",
            "r1   2   5\n",
            "r2   3   6 \n",
            "\n",
            "    c0  c1\n",
            "r1   2   5\n",
            "r2   3   6 \n",
            "\n",
            "    c0  c1\n",
            "r0   1  40\n",
            "r1   2   5\n",
            "r2   3   6 \n",
            "\n",
            "    c0  c1\n",
            "r0   1  40\n",
            "r1   0   0\n",
            "r2   0   0\n"
          ],
          "name": "stdout"
        }
      ]
    },
    {
      "cell_type": "markdown",
      "metadata": {
        "id": "c3GDAafUm7m1"
      },
      "source": [
        "## 데이터프레임을 외부 파일로 저장하기"
      ]
    },
    {
      "cell_type": "code",
      "metadata": {
        "id": "_u8Mek8Km7m2",
        "outputId": "7561d1fc-1f5c-4b3e-f35d-133842f8bebf",
        "colab": {
          "base_uri": "https://localhost:8080/",
          "height": 102
        }
      },
      "source": [
        "import pandas as pd\n",
        "\n",
        "dict_data = {'c0':[1,2,3], 'c1':[4, 5, 6]} \n",
        "df = pd.DataFrame(dict_data, index=['r0', 'r1', 'r2'])  \n",
        "print(df, \"\\n\") \n",
        "\n",
        "df.to_csv(\"df.csv\")\n",
        "\n",
        "df.to_excel(\"df.xlsx\")"
      ],
      "execution_count": 21,
      "outputs": [
        {
          "output_type": "stream",
          "text": [
            "    c0  c1\n",
            "r0   1   4\n",
            "r1   2   5\n",
            "r2   3   6 \n",
            "\n"
          ],
          "name": "stdout"
        }
      ]
    }
  ]
}