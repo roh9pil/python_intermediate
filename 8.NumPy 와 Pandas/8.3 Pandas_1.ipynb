{
  "nbformat": 4,
  "nbformat_minor": 0,
  "metadata": {
    "kernelspec": {
      "display_name": "Python 3",
      "language": "python",
      "name": "python3"
    },
    "language_info": {
      "codemirror_mode": {
        "name": "ipython",
        "version": 3
      },
      "file_extension": ".py",
      "mimetype": "text/x-python",
      "name": "python",
      "nbconvert_exporter": "python",
      "pygments_lexer": "ipython3",
      "version": "3.7.6"
    },
    "colab": {
      "name": "8.3 Pandas_1.ipynb",
      "provenance": [],
      "toc_visible": true
    }
  },
  "cells": [
    {
      "cell_type": "markdown",
      "metadata": {
        "id": "ifcSFBNoDtj6"
      },
      "source": [
        "# Pandas"
      ]
    },
    {
      "cell_type": "markdown",
      "metadata": {
        "id": "cwtCATqqDtj7"
      },
      "source": [
        "## 데이터 프레임 만들기 1"
      ]
    },
    {
      "cell_type": "code",
      "metadata": {
        "id": "kbx0rJGXDtj8",
        "outputId": "67019080-51f8-4b82-f312-a35c9466067e",
        "colab": {
          "base_uri": "https://localhost:8080/",
          "height": 459
        }
      },
      "source": [
        "import pandas as pd\n",
        "\n",
        "dict_data = {'c0':[1,2,3,4,5], 'c1':[6,7,8,9,10]} \n",
        "df1 = pd.DataFrame(dict_data)  \n",
        "print(type(df1), \"\\n\") \n",
        "print(df1, \"\\n\")\n",
        "\n",
        "df2 = pd.DataFrame(dict_data, index=['r0', 'r1', 'r2', 'r3', 'r4'])  \n",
        "print(df2, \"\\n\")\n",
        "\n",
        "list_of_list_data = [[1,2,3,4,5], [6,7,8,9,10]]\n",
        "df3 = pd.DataFrame(list_of_list_data) \n",
        "print(df3, \"\\n\")\n",
        "\n",
        "df4 = pd.DataFrame(list_of_list_data, \n",
        "                   index=['r0', 'r1'], \n",
        "                   columns=['c0', 'c1', 'c2', 'c3', 'c4'])  \n",
        "print(df4, \"\\n\")\n",
        "\n",
        "print(df2.shape)\n",
        "print(df4.shape)"
      ],
      "execution_count": 1,
      "outputs": [
        {
          "output_type": "stream",
          "text": [
            "<class 'pandas.core.frame.DataFrame'> \n",
            "\n",
            "   c0  c1\n",
            "0   1   6\n",
            "1   2   7\n",
            "2   3   8\n",
            "3   4   9\n",
            "4   5  10 \n",
            "\n",
            "    c0  c1\n",
            "r0   1   6\n",
            "r1   2   7\n",
            "r2   3   8\n",
            "r3   4   9\n",
            "r4   5  10 \n",
            "\n",
            "   0  1  2  3   4\n",
            "0  1  2  3  4   5\n",
            "1  6  7  8  9  10 \n",
            "\n",
            "    c0  c1  c2  c3  c4\n",
            "r0   1   2   3   4   5\n",
            "r1   6   7   8   9  10 \n",
            "\n",
            "(5, 2)\n",
            "(2, 5)\n"
          ],
          "name": "stdout"
        }
      ]
    },
    {
      "cell_type": "markdown",
      "metadata": {
        "id": "-c3XKRLdDtkD"
      },
      "source": [
        "## 데이터 프레임 만들기 2"
      ]
    },
    {
      "cell_type": "code",
      "metadata": {
        "id": "DuJZUMS6DtkE",
        "outputId": "3b9d5edf-2211-492c-bfeb-cf974a4e90a2",
        "colab": {
          "base_uri": "https://localhost:8080/",
          "height": 1000
        }
      },
      "source": [
        "import pandas as pd\n",
        "\n",
        "csv_file = 'bok_statistics_CD.csv'\n",
        "df1 = pd.read_csv(csv_file)\n",
        "print(df1)\n",
        "print('\\n')\n",
        " \n",
        "df2 = pd.read_csv(csv_file, header=None)\n",
        "print(df2)\n",
        "print('\\n')\n",
        "\n",
        "df3 = pd.read_csv(csv_file, index_col=0)\n",
        "print(df3)\n",
        "print('\\n')\n",
        "\n",
        "df4 = pd.read_csv(csv_file, index_col=0, header=None)\n",
        "print(df4)\n",
        "print('\\n')\n",
        "\n",
        "excel_file = 'report_Key100Stat.xls'\n",
        "\n",
        "df5 = pd.read_excel(excel_file)\n",
        "print(df5)"
      ],
      "execution_count": 9,
      "outputs": [
        {
          "output_type": "stream",
          "text": [
            "         2013   2.72   -0.58\n",
            "0        2014   2.49   -0.23\n",
            "1        2015   1.76   -0.73\n",
            "2        2016   1.49   -0.27\n",
            "3        2017   1.44   -0.05\n",
            "4        2018   1.68    0.24\n",
            "5        2019   1.69    0.01\n",
            "6     2019.10   1.46   -0.08\n",
            "7     2019.11   1.52    0.06\n",
            "8     2019.12   1.53    0.01\n",
            "9      2020.1   1.47   -0.06\n",
            "10     2020.2   1.42   -0.05\n",
            "11     2020.3   1.23   -0.19\n",
            "12     2020.4   1.10   -0.13\n",
            "13  2020.5.22   1.02    0.00\n",
            "14  2020.5.25   1.02    0.00\n",
            "15  2020.5.26   1.02    0.00\n",
            "16  2020.5.27   1.02    0.00\n",
            "17  2020.5.28   0.81   -0.21\n",
            "18  2020.5.29   0.81    0.00\n",
            "\n",
            "\n",
            "            0     1     2\n",
            "0        2013  2.72 -0.58\n",
            "1        2014  2.49 -0.23\n",
            "2        2015  1.76 -0.73\n",
            "3        2016  1.49 -0.27\n",
            "4        2017  1.44 -0.05\n",
            "5        2018  1.68  0.24\n",
            "6        2019  1.69  0.01\n",
            "7     2019.10  1.46 -0.08\n",
            "8     2019.11  1.52  0.06\n",
            "9     2019.12  1.53  0.01\n",
            "10     2020.1  1.47 -0.06\n",
            "11     2020.2  1.42 -0.05\n",
            "12     2020.3  1.23 -0.19\n",
            "13     2020.4  1.10 -0.13\n",
            "14  2020.5.22  1.02  0.00\n",
            "15  2020.5.25  1.02  0.00\n",
            "16  2020.5.26  1.02  0.00\n",
            "17  2020.5.27  1.02  0.00\n",
            "18  2020.5.28  0.81 -0.21\n",
            "19  2020.5.29  0.81  0.00\n",
            "\n",
            "\n",
            "            2.72   -0.58\n",
            "2013                    \n",
            "2014        2.49   -0.23\n",
            "2015        1.76   -0.73\n",
            "2016        1.49   -0.27\n",
            "2017        1.44   -0.05\n",
            "2018        1.68    0.24\n",
            "2019        1.69    0.01\n",
            "2019.10     1.46   -0.08\n",
            "2019.11     1.52    0.06\n",
            "2019.12     1.53    0.01\n",
            "2020.1      1.47   -0.06\n",
            "2020.2      1.42   -0.05\n",
            "2020.3      1.23   -0.19\n",
            "2020.4      1.10   -0.13\n",
            "2020.5.22   1.02    0.00\n",
            "2020.5.25   1.02    0.00\n",
            "2020.5.26   1.02    0.00\n",
            "2020.5.27   1.02    0.00\n",
            "2020.5.28   0.81   -0.21\n",
            "2020.5.29   0.81    0.00\n",
            "\n",
            "\n",
            "              1     2\n",
            "0                    \n",
            "2013       2.72 -0.58\n",
            "2014       2.49 -0.23\n",
            "2015       1.76 -0.73\n",
            "2016       1.49 -0.27\n",
            "2017       1.44 -0.05\n",
            "2018       1.68  0.24\n",
            "2019       1.69  0.01\n",
            "2019.10    1.46 -0.08\n",
            "2019.11    1.52  0.06\n",
            "2019.12    1.53  0.01\n",
            "2020.1     1.47 -0.06\n",
            "2020.2     1.42 -0.05\n",
            "2020.3     1.23 -0.19\n",
            "2020.4     1.10 -0.13\n",
            "2020.5.22  1.02  0.00\n",
            "2020.5.25  1.02  0.00\n",
            "2020.5.26  1.02  0.00\n",
            "2020.5.27  1.02  0.00\n",
            "2020.5.28  0.81 -0.21\n",
            "2020.5.29  0.81  0.00\n",
            "\n",
            "\n",
            "                통계구분                    통계지표      시점         원자료   단위\n",
            "0   국민소득 ? 경기 ? 기업경영    경제성장률(실질, 계절조정 전기대비)   20201        -1.4    %\n",
            "1   국민소득 ? 경기 ? 기업경영  민간소비증감률(실질, 계절조정 전기대비)   20201        -6.4    %\n",
            "2   국민소득 ? 경기 ? 기업경영  설비투자증감률(실질, 계절조정 전기대비)   20201         0.2    %\n",
            "3   국민소득 ? 경기 ? 기업경영  건설투자증감률(실질, 계절조정 전기대비)   20201         1.3    %\n",
            "4   국민소득 ? 경기 ? 기업경영           GDP(명목, 계절조정)   20194  482,906.60  십억원\n",
            "..               ...                     ...     ...         ...  ...\n",
            "95         경제관련 사회통계          고령인구비율(65세 이상)    2020        15.7    %\n",
            "96         경제관련 사회통계                   합계출산율    2019       0.920    명\n",
            "97         경제관련 사회통계                 자동차등록대수  202004  23,859,093    대\n",
            "98         경제관련 사회통계                   주택보급률    2018       104.2    %\n",
            "99         경제관련 사회통계                    지니계수    2018       0.345  NaN\n",
            "\n",
            "[100 rows x 5 columns]\n"
          ],
          "name": "stdout"
        }
      ]
    },
    {
      "cell_type": "markdown",
      "metadata": {
        "id": "mZ3og-ERDtkJ"
      },
      "source": [
        "## 데이터프레임의 내용 살펴보기"
      ]
    },
    {
      "cell_type": "code",
      "metadata": {
        "id": "bM2eYhDiDtkK",
        "outputId": "60747e1a-7196-439c-bc56-bf0bffcf9d90",
        "colab": {
          "base_uri": "https://localhost:8080/",
          "height": 459
        }
      },
      "source": [
        "import pandas as pd\n",
        "\n",
        "df = pd.read_csv('bok_statistics_CD.csv', header=None)  \n",
        "\n",
        "print(df.head())\n",
        "print('\\n')\n",
        "print(df.head(3))\n",
        "print('\\n')\n",
        "print(df.tail())\n",
        "print('\\n')\n",
        "print(df.tail(3))"
      ],
      "execution_count": 10,
      "outputs": [
        {
          "output_type": "stream",
          "text": [
            "      0     1     2\n",
            "0  2013  2.72 -0.58\n",
            "1  2014  2.49 -0.23\n",
            "2  2015  1.76 -0.73\n",
            "3  2016  1.49 -0.27\n",
            "4  2017  1.44 -0.05\n",
            "\n",
            "\n",
            "      0     1     2\n",
            "0  2013  2.72 -0.58\n",
            "1  2014  2.49 -0.23\n",
            "2  2015  1.76 -0.73\n",
            "\n",
            "\n",
            "            0     1     2\n",
            "15  2020.5.25  1.02  0.00\n",
            "16  2020.5.26  1.02  0.00\n",
            "17  2020.5.27  1.02  0.00\n",
            "18  2020.5.28  0.81 -0.21\n",
            "19  2020.5.29  0.81  0.00\n",
            "\n",
            "\n",
            "            0     1     2\n",
            "17  2020.5.27  1.02  0.00\n",
            "18  2020.5.28  0.81 -0.21\n",
            "19  2020.5.29  0.81  0.00\n"
          ],
          "name": "stdout"
        }
      ]
    },
    {
      "cell_type": "markdown",
      "metadata": {
        "id": "2ehVP6K2DtkO"
      },
      "source": [
        "## 데이터프레임의 요약정보 확인하기 1"
      ]
    },
    {
      "cell_type": "code",
      "metadata": {
        "id": "fYG_DY_YDtkO",
        "outputId": "48ec6b63-fe3f-42ed-e91a-adb9287f35c8",
        "colab": {
          "base_uri": "https://localhost:8080/",
          "height": 340
        }
      },
      "source": [
        "import pandas as pd\n",
        "\n",
        "df = pd.read_csv('bok_statistics_CD.csv', header=None)\n",
        "\n",
        "print(df.head())\n",
        "print('\\n')\n",
        "print(df.info())"
      ],
      "execution_count": 11,
      "outputs": [
        {
          "output_type": "stream",
          "text": [
            "      0     1     2\n",
            "0  2013  2.72 -0.58\n",
            "1  2014  2.49 -0.23\n",
            "2  2015  1.76 -0.73\n",
            "3  2016  1.49 -0.27\n",
            "4  2017  1.44 -0.05\n",
            "\n",
            "\n",
            "<class 'pandas.core.frame.DataFrame'>\n",
            "RangeIndex: 20 entries, 0 to 19\n",
            "Data columns (total 3 columns):\n",
            " #   Column  Non-Null Count  Dtype  \n",
            "---  ------  --------------  -----  \n",
            " 0   0       20 non-null     object \n",
            " 1   1       20 non-null     float64\n",
            " 2   2       20 non-null     float64\n",
            "dtypes: float64(2), object(1)\n",
            "memory usage: 608.0+ bytes\n",
            "None\n"
          ],
          "name": "stdout"
        }
      ]
    },
    {
      "cell_type": "markdown",
      "metadata": {
        "id": "WJctpLvdDtkS"
      },
      "source": [
        "## 데이터프레임의 요약정보 확인하기 2"
      ]
    },
    {
      "cell_type": "code",
      "metadata": {
        "id": "TXI_aurBDtkT",
        "outputId": "e7bcf3ef-a632-4339-b042-f8b94e8a6b33",
        "colab": {
          "base_uri": "https://localhost:8080/",
          "height": 306
        }
      },
      "source": [
        "import pandas as pd\n",
        "\n",
        "df = pd.read_csv('bok_statistics_CD.csv', header=None) \n",
        "\n",
        "print(df.head())\n",
        "print('\\n')\n",
        "print(df.describe())"
      ],
      "execution_count": 12,
      "outputs": [
        {
          "output_type": "stream",
          "text": [
            "      0     1     2\n",
            "0  2013  2.72 -0.58\n",
            "1  2014  2.49 -0.23\n",
            "2  2015  1.76 -0.73\n",
            "3  2016  1.49 -0.27\n",
            "4  2017  1.44 -0.05\n",
            "\n",
            "\n",
            "               1          2\n",
            "count  20.000000  20.000000\n",
            "mean    1.435000  -0.113000\n",
            "std     0.494214   0.219236\n",
            "min     0.810000  -0.730000\n",
            "25%     1.020000  -0.195000\n",
            "50%     1.450000  -0.050000\n",
            "75%     1.567500   0.000000\n",
            "max     2.720000   0.240000\n"
          ],
          "name": "stdout"
        }
      ]
    }
  ]
}