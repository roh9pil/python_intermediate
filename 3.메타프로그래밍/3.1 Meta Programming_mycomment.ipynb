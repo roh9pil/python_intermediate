{
  "nbformat": 4,
  "nbformat_minor": 0,
  "metadata": {
    "kernelspec": {
      "display_name": "Python 3",
      "language": "python",
      "name": "python3"
    },
    "language_info": {
      "codemirror_mode": {
        "name": "ipython",
        "version": 3
      },
      "file_extension": ".py",
      "mimetype": "text/x-python",
      "name": "python",
      "nbconvert_exporter": "python",
      "pygments_lexer": "ipython3",
      "version": "3.7.6"
    },
    "colab": {
      "name": "3.1 Meta Programming_1.ipynb",
      "provenance": []
    }
  },
  "cells": [
    {
      "cell_type": "markdown",
      "metadata": {
        "id": "G1IycQtke65l"
      },
      "source": [
        "## 함수 감싸기 "
      ]
    },
    {
      "cell_type": "code",
      "metadata": {
        "id": "CRiePTNue65n",
        "outputId": "5aa55668-467a-4b78-f71c-81888a26c2e9",
        "colab": {
          "base_uri": "https://localhost:8080/",
          "height": 51
        }
      },
      "source": [
        "import time\n",
        "from functools import wraps\n",
        "\n",
        "def timethis(func):\n",
        "    @wraps(func)\n",
        "    def wrapper(*args, **kwargs):\n",
        "        start = time.time()\n",
        "        result = func(*args, **kwargs)\n",
        "        end = time.time()\n",
        "        print(func.__name__, end-start)\n",
        "        return result\n",
        "    return wrapper\n",
        "\n",
        "if __name__ == '__main__':\n",
        "    @timethis\n",
        "    def countdown(n:int):\n",
        "        while n > 0:\n",
        "            n -= 1\n",
        "\n",
        "    countdown(100000)\n",
        "    countdown(10000000)"
      ],
      "execution_count": 2,
      "outputs": [
        {
          "output_type": "stream",
          "text": [
            "countdown 0.00745391845703125\n",
            "countdown 0.5320258140563965\n"
          ],
          "name": "stdout"
        }
      ]
    },
    {
      "cell_type": "markdown",
      "metadata": {
        "id": "wNBA_xvue65t"
      },
      "source": [
        "## 함수 메타데이터 보존 "
      ]
    },
    {
      "cell_type": "code",
      "metadata": {
        "id": "LYAFSaBLe65t",
        "outputId": "4b9da479-3d3d-4936-836f-281c98ce05f1",
        "colab": {
          "base_uri": "https://localhost:8080/",
          "height": 85
        }
      },
      "source": [
        "import time\n",
        "from functools import wraps\n",
        "\n",
        "def timethis(func):\n",
        "    '''\n",
        "    Decorator that reports the execution time.\n",
        "    '''\n",
        "    @wraps(func)\n",
        "    def wrapper(*args, **kwargs):\n",
        "        start = time.time()\n",
        "        result = func(*args, **kwargs)\n",
        "        end = time.time()\n",
        "        print(func.__name__, end-start)\n",
        "        return result\n",
        "    return wrapper\n",
        "\n",
        "if __name__ == '__main__':\n",
        "    @timethis\n",
        "    def countdown(n:int):\n",
        "        '''\n",
        "        Counts down\n",
        "        '''\n",
        "        while n > 0:\n",
        "            n -= 1\n",
        "\n",
        "    countdown(100000)\n",
        "    print('Name:', countdown.__name__)\n",
        "    print('Docstring:', repr(countdown.__doc__))\n",
        "    print('Annotations:', countdown.__annotations__)"
      ],
      "execution_count": 3,
      "outputs": [
        {
          "output_type": "stream",
          "text": [
            "countdown 0.007941484451293945\n",
            "Name: countdown\n",
            "Docstring: '\\n        Counts down\\n        '\n",
            "Annotations: {'n': <class 'int'>}\n"
          ],
          "name": "stdout"
        }
      ]
    },
    {
      "cell_type": "markdown",
      "metadata": {
        "id": "SgIoYu0ee65x"
      },
      "source": [
        "## 데코레이터 풀기 "
      ]
    },
    {
      "cell_type": "code",
      "metadata": {
        "id": "aQvNtAA4e65x",
        "outputId": "8d1dc831-7a1a-4283-e201-3014227c5865",
        "colab": {
          "base_uri": "https://localhost:8080/",
          "height": 102
        }
      },
      "source": [
        "from functools import wraps\n",
        "\n",
        "def decorator1(func):\n",
        "    @wraps(func)\n",
        "    def wrapper(*args, **kwargs):\n",
        "        print('Decorator 1')\n",
        "        return func(*args, **kwargs)\n",
        "    return wrapper\n",
        "\n",
        "def decorator2(func):\n",
        "    @wraps(func)\n",
        "    def wrapper(*args, **kwargs):\n",
        "        print('Decorator 2')\n",
        "        return func(*args, **kwargs)\n",
        "    return wrapper\n",
        "\n",
        "@decorator1\n",
        "@decorator2\n",
        "def add(x, y):\n",
        "    return x + y\n",
        "\n",
        "print(add(2,3))\n",
        "\n",
        "print(add.__wrapped__(2,3))"
      ],
      "execution_count": 4,
      "outputs": [
        {
          "output_type": "stream",
          "text": [
            "Decorator 1\n",
            "Decorator 2\n",
            "5\n",
            "Decorator 2\n",
            "5\n"
          ],
          "name": "stdout"
        }
      ]
    },
    {
      "cell_type": "markdown",
      "metadata": {
        "id": "gxJifzlBe651"
      },
      "source": [
        "## 매개변수를 받는 데코레이터 정의"
      ]
    },
    {
      "cell_type": "code",
      "metadata": {
        "id": "IbRMZttNe651",
        "outputId": "df276867-8e7b-4112-8d9e-83cee3bba840",
        "colab": {
          "base_uri": "https://localhost:8080/",
          "height": 85
        }
      },
      "source": [
        "from functools import wraps\n",
        "import logging\n",
        "\n",
        "def logged(level, name=None, message=None):\n",
        "    def decorate(func):\n",
        "        logname = name if name else func.__module__\n",
        "        log = logging.getLogger(logname)\n",
        "        logmsg = message if message else func.__name__\n",
        "\n",
        "        @wraps(func)\n",
        "        def wrapper(*args, **kwargs):\n",
        "            log.log(level, logmsg)\n",
        "            return func(*args, **kwargs)\n",
        "        return wrapper\n",
        "    return decorate\n",
        "\n",
        "@logged(logging.DEBUG)\n",
        "def add(x, y):\n",
        "    return x + y\n",
        "\n",
        "@logged(logging.CRITICAL, 'example')\n",
        "def spam():\n",
        "    print('Spam!')\n",
        "\n",
        "if __name__ == '__main__':\n",
        "    import logging\n",
        "    logging.basicConfig(level=logging.DEBUG)\n",
        "    print(add(2,3))\n",
        "    spam()"
      ],
      "execution_count": 5,
      "outputs": [
        {
          "output_type": "stream",
          "text": [
            "DEBUG:__main__:add\n",
            "CRITICAL:example:spam\n"
          ],
          "name": "stderr"
        },
        {
          "output_type": "stream",
          "text": [
            "5\n",
            "Spam!\n"
          ],
          "name": "stdout"
        }
      ]
    },
    {
      "cell_type": "markdown",
      "metadata": {
        "id": "-0BE2klfe655"
      },
      "source": [
        "## 사용자가 조절 가능한 속성을 가진 데코레이터"
      ]
    },
    {
      "cell_type": "code",
      "metadata": {
        "id": "BaKmow0fe656",
        "outputId": "be833ae9-af48-4a9d-dbf7-7a8cde574988",
        "colab": {
          "base_uri": "https://localhost:8080/",
          "height": 408
        }
      },
      "source": [
        "from functools import wraps, partial\n",
        "import logging\n",
        "\n",
        "def attach_wrapper(obj, func=None):\n",
        "    if func is None:\n",
        "        return partial(attach_wrapper, obj)\n",
        "    setattr(obj, func.__name__, func)\n",
        "    print(f'obj {obj}, func.__name__:{func.__name__} func {func}')\n",
        "    # wrapper를 통해서 반환된 add 에 attribute로 set_level, set_message를 추가해주는 부분 \n",
        "    return func\n",
        "\n",
        "def logged(level, name=None, message=None):\n",
        "    def decorate(func):\n",
        "        logname = name if name else func.__module__\n",
        "        log = logging.getLogger(logname)\n",
        "        logmsg = message if message else func.__name__\n",
        "\n",
        "        @wraps(func)\n",
        "        def wrapper(*args, **kwargs):\n",
        "            log.log(level, logmsg)\n",
        "            return func(*args, **kwargs)\n",
        "\n",
        "        @attach_wrapper(wrapper)\n",
        "        def set_level(newlevel):\n",
        "            nonlocal level\n",
        "            level = newlevel\n",
        "\n",
        "        @attach_wrapper(wrapper)\n",
        "        def set_message(newmsg):\n",
        "            nonlocal logmsg\n",
        "            logmsg = newmsg\n",
        "\n",
        "        return wrapper\n",
        "    return decorate\n",
        "\n",
        "@logged(logging.DEBUG)\n",
        "def add(x, y):\n",
        "    return x + y\n",
        "# add = logged(logging.DEBUG)(add)\n",
        "\n",
        "@logged(logging.CRITICAL, 'example')\n",
        "def spam():\n",
        "    print('Spam!')\n",
        "\n",
        "import time\n",
        "def timethis(func):\n",
        "    @wraps(func)\n",
        "    def wrapper(*args, **kwargs):\n",
        "        start = time.time()\n",
        "        r = func(*args, **kwargs)\n",
        "        end = time.time()\n",
        "        print(func.__name__, end - start)\n",
        "        return r\n",
        "    return wrapper\n",
        "\n",
        "@timethis\n",
        "@logged(logging.DEBUG)\n",
        "def countdown(n):\n",
        "    while n > 0:\n",
        "        n -= 1\n",
        "\n",
        "@logged(logging.DEBUG)\n",
        "@timethis\n",
        "def countdown2(n):\n",
        "    while n > 0:\n",
        "        n -= 1\n",
        "\n",
        "if __name__ == '__main__':\n",
        "    import logging\n",
        "    logging.basicConfig(level=logging.DEBUG)\n",
        "\n",
        "    print(f'add address {add}')\n",
        "    print(add(2, 3))\n",
        "\n",
        "    add.set_message('Add called')\n",
        "    print(add(2, 3))\n",
        "\n",
        "    add.set_level(logging.WARNING)\n",
        "    print(add(2, 3))\n",
        "\n",
        "    countdown(100000)\n",
        "    countdown.set_level(logging.CRITICAL)\n",
        "    countdown(100000)\n",
        "\n",
        "    countdown2(100000)\n",
        "    countdown2.set_level(logging.CRITICAL)\n",
        "    countdown2(100000)\n"
      ],
      "execution_count": 13,
      "outputs": [
        {
          "output_type": "stream",
          "text": [
            "DEBUG:__main__:add\n",
            "DEBUG:__main__:Add called\n",
            "WARNING:__main__:Add called\n",
            "DEBUG:__main__:countdown\n",
            "CRITICAL:__main__:countdown\n",
            "DEBUG:__main__:countdown2\n",
            "CRITICAL:__main__:countdown2\n"
          ],
          "name": "stderr"
        },
        {
          "output_type": "stream",
          "text": [
            "obj <function add at 0x7f751caf3f28>, func.__name__:set_level func <function logged.<locals>.decorate.<locals>.set_level at 0x7f751caf3ea0>\n",
            "obj <function add at 0x7f751caf3f28>, func.__name__:set_message func <function logged.<locals>.decorate.<locals>.set_message at 0x7f751caf3e18>\n",
            "obj <function spam at 0x7f751caf3c80>, func.__name__:set_level func <function logged.<locals>.decorate.<locals>.set_level at 0x7f751caf3bf8>\n",
            "obj <function spam at 0x7f751caf3c80>, func.__name__:set_message func <function logged.<locals>.decorate.<locals>.set_message at 0x7f751caf3b70>\n",
            "obj <function countdown at 0x7f751caf3ae8>, func.__name__:set_level func <function logged.<locals>.decorate.<locals>.set_level at 0x7f751caf3a60>\n",
            "obj <function countdown at 0x7f751caf3ae8>, func.__name__:set_message func <function logged.<locals>.decorate.<locals>.set_message at 0x7f751caf39d8>\n",
            "obj <function countdown2 at 0x7f751caf3048>, func.__name__:set_level func <function logged.<locals>.decorate.<locals>.set_level at 0x7f751caf3950>\n",
            "obj <function countdown2 at 0x7f751caf3048>, func.__name__:set_message func <function logged.<locals>.decorate.<locals>.set_message at 0x7f751caf38c8>\n",
            "add address <function add at 0x7f751caf3f28>\n",
            "5\n",
            "5\n",
            "5\n",
            "countdown 0.010237693786621094\n",
            "countdown 0.0070040225982666016\n",
            "countdown2 0.005234956741333008\n",
            "countdown2 0.0065157413482666016\n"
          ],
          "name": "stdout"
        }
      ]
    },
    {
      "cell_type": "markdown",
      "metadata": {
        "id": "eL_b8DoCe659"
      },
      "source": [
        "## 옵션 매개변수를 받는 데코레이터"
      ]
    },
    {
      "cell_type": "code",
      "metadata": {
        "id": "YmnuNXiYe65-",
        "outputId": "bbf0d1a7-d54f-4278-9ff9-0b7e6b300374",
        "colab": {
          "base_uri": "https://localhost:8080/",
          "height": 85
        }
      },
      "source": [
        "from functools import wraps, partial\n",
        "import logging\n",
        "\n",
        "def logged(func=None, *, level=logging.DEBUG, name=None, message=None):\n",
        "    if func is None:\n",
        "        return partial(logged, level=level, name=name, message=message)\n",
        "\n",
        "    logname = name if name else func.__module__\n",
        "    log = logging.getLogger(logname)\n",
        "    logmsg = message if message else func.__name__\n",
        "    @wraps(func)\n",
        "    def wrapper(*args, **kwargs):\n",
        "        log.log(level, logmsg)\n",
        "        return func(*args, **kwargs)\n",
        "    return wrapper\n",
        "\n",
        "@logged\n",
        "def add(x, y):\n",
        "    return x + y\n",
        "\n",
        "@logged()\n",
        "def sub(x, y):\n",
        "    return x - y\n",
        "\n",
        "@logged(level=logging.CRITICAL, name='example')\n",
        "def spam():\n",
        "    print('Spam!')\n",
        "\n",
        "if __name__ == '__main__':\n",
        "    import logging\n",
        "    logging.basicConfig(level=logging.DEBUG)\n",
        "    add(2,3)\n",
        "    sub(2,3)\n",
        "    spam()\n"
      ],
      "execution_count": 14,
      "outputs": [
        {
          "output_type": "stream",
          "text": [
            "DEBUG:__main__:add\n",
            "DEBUG:__main__:sub\n",
            "CRITICAL:example:spam\n"
          ],
          "name": "stderr"
        },
        {
          "output_type": "stream",
          "text": [
            "Spam!\n"
          ],
          "name": "stdout"
        }
      ]
    },
    {
      "cell_type": "code",
      "metadata": {
        "id": "zNNwQgm8e66C"
      },
      "source": [
        ""
      ],
      "execution_count": null,
      "outputs": []
    }
  ]
}