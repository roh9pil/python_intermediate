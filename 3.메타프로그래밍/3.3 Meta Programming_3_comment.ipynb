{
  "nbformat": 4,
  "nbformat_minor": 0,
  "metadata": {
    "kernelspec": {
      "display_name": "Python 3",
      "language": "python",
      "name": "python3"
    },
    "language_info": {
      "codemirror_mode": {
        "name": "ipython",
        "version": 3
      },
      "file_extension": ".py",
      "mimetype": "text/x-python",
      "name": "python",
      "nbconvert_exporter": "python",
      "pygments_lexer": "ipython3",
      "version": "3.8.3"
    },
    "colab": {
      "name": "3.3 Meta Programming_3.ipynb",
      "provenance": []
    }
  },
  "cells": [
    {
      "cell_type": "markdown",
      "metadata": {
        "id": "1yMwxPjDHm5Q"
      },
      "source": [
        "## 인스턴스 생성 조절에 메타클래스 사용"
      ]
    },
    {
      "cell_type": "markdown",
      "metadata": {
        "id": "VetRe9NjHm5T"
      },
      "source": [
        "* 메타 클래스: 클래스를 어떻게 만드는 지 기술하는 클래스\n",
        "* type을 상속받아 쓴다"
      ]
    },
    {
      "cell_type": "code",
      "metadata": {
        "id": "DpTD6blMHm5U",
        "outputId": "7216e340-d04b-41f2-8fec-9727b0fc71af"
      },
      "source": [
        "class NoInstances(type):\n",
        "    def __call__(self, *args, **kwargs):\n",
        "        raise TypeError(\"Can't instantiate directly\")\n",
        "\n",
        "class Spam(metaclass=NoInstances):\n",
        "    @staticmethod\n",
        "    def grok(x):\n",
        "        print('Spam.grok')\n",
        "\n",
        "if __name__ == '__main__':\n",
        "    try:\n",
        "        s = Spam()\n",
        "    except TypeError as e:\n",
        "        print(e)\n",
        "\n",
        "    Spam.grok(42)"
      ],
      "execution_count": null,
      "outputs": [
        {
          "output_type": "stream",
          "text": [
            "Can't instantiate directly\n",
            "Spam.grok\n"
          ],
          "name": "stdout"
        }
      ]
    },
    {
      "cell_type": "markdown",
      "metadata": {
        "id": "saptdFGiHm5g"
      },
      "source": [
        "* 객체를 하나만 만들어서 유지하고 싶은 경우"
      ]
    },
    {
      "cell_type": "code",
      "metadata": {
        "id": "06pC2m-_Hm5i",
        "outputId": "12bcb143-1434-4609-b757-5aeb712f678b"
      },
      "source": [
        "class Singleton(type):\n",
        "    def __init__(self, *args, **kwargs): #Spam 클래스가 생성되는 시점에 호출되는 메타 클래스의 메소드\n",
        "        self.__instance = None\n",
        "        super().__init__(*args, **kwargs)\n",
        "        print(\"Singleton initiated\")\n",
        "\n",
        "    def __call__(self, *args, **kwargs): #Spam() 시에 호출되는 메소드\n",
        "        print(\"Singleton called\")\n",
        "        if self.__instance is None:\n",
        "            self.__instance = super().__call__(*args, **kwargs) # 왜 super()가 ??\n",
        "            return self.__instance\n",
        "        else:\n",
        "            return self.__instance\n",
        "\n",
        "class Spam(metaclass=Singleton):\n",
        "    #__instance = None; #line 3\n",
        "    def __init__(self):\n",
        "        print('Creating Spam')\n",
        "\n",
        "if __name__ == '__main__':\n",
        "    a = Spam()\n",
        "    b = Spam()\n",
        "    print(Spam.__dict__)\n",
        "    print(a)\n",
        "    print(b)"
      ],
      "execution_count": null,
      "outputs": [
        {
          "output_type": "stream",
          "text": [
            "Singleton initiated\n",
            "Singleton called\n",
            "Creating Spam\n",
            "Singleton called\n",
            "{'__module__': '__main__', '__init__': <function Spam.__init__ at 0x00000266FBE7AAF0>, '__dict__': <attribute '__dict__' of 'Spam' objects>, '__weakref__': <attribute '__weakref__' of 'Spam' objects>, '__doc__': None, '_Singleton__instance': <__main__.Spam object at 0x00000266FBE45C40>}\n",
            "<__main__.Spam object at 0x00000266FBE45C40>\n",
            "<__main__.Spam object at 0x00000266FBE45C40>\n"
          ],
          "name": "stdout"
        }
      ]
    },
    {
      "cell_type": "code",
      "metadata": {
        "id": "zz1RsBgPHm5r",
        "outputId": "e9761848-9376-41d9-c427-0ff6ecb834b6"
      },
      "source": [
        "import weakref\n",
        "\n",
        "class Cached(type):\n",
        "    def __init__(self, *args, **kwargs):\n",
        "        super().__init__(*args, **kwargs)\n",
        "        self.__cache = weakref.WeakValueDictionary()\n",
        "\n",
        "    def __call__(self, *args):\n",
        "        if args in self.__cache:\n",
        "            return self.__cache[args]\n",
        "        else:\n",
        "            obj = super().__call__(*args)\n",
        "            self.__cache[args] = obj\n",
        "            return obj\n",
        "        \n",
        "class Spam(metaclass=Cached):\n",
        "    def __init__(self, name):\n",
        "        print('Creating Spam({!r})'.format(name))\n",
        "        self.name = name\n",
        "\n",
        "if __name__ == '__main__':\n",
        "    a = Spam('foo')\n",
        "    b = Spam('bar')\n",
        "    print('a is b:', a is b)\n",
        "    c = Spam('foo')\n",
        "    print('a is c:', a is c)"
      ],
      "execution_count": null,
      "outputs": [
        {
          "output_type": "stream",
          "text": [
            "Creating Spam('foo')\n",
            "Creating Spam('bar')\n",
            "a is b: False\n",
            "a is c: True\n"
          ],
          "name": "stdout"
        }
      ]
    },
    {
      "cell_type": "markdown",
      "metadata": {
        "id": "vIRwcSYrHm5w"
      },
      "source": [
        "## 클래스 속성 정의 순서 수집\n",
        "\n",
        "* prepare -> new -> init -> call \n",
        "* init 보다 먼저 뭘 하고 싶은게 있을때, new를 정의해서 사용한다."
      ]
    },
    {
      "cell_type": "code",
      "metadata": {
        "id": "pIqOCo1lHm5x",
        "outputId": "850e7728-81a5-495b-88c2-e86ac6dfa285"
      },
      "source": [
        "from collections import OrderedDict\n",
        "\n",
        "class Typed:\n",
        "    _expected_type = type(None)\n",
        "    def __init__(self, name=None):\n",
        "        self._name = name\n",
        "\n",
        "    def __set__(self, instance, value):\n",
        "        if not isinstance(value, self._expected_type):\n",
        "            raise TypeError('Expected ' +str(self._expected_type))\n",
        "        instance.__dict__[self._name] = value\n",
        "\n",
        "class Integer(Typed):\n",
        "    _expected_type = int\n",
        "\n",
        "class Float(Typed):\n",
        "    _expected_type = float\n",
        "\n",
        "class String(Typed):\n",
        "    _expected_type = str\n",
        "\n",
        "class OrderedMeta(type):\n",
        "    def __new__(cls, clsname, bases, clsdict):\n",
        "        d = dict(clsdict)\n",
        "        order = []\n",
        "        for name, value in clsdict.items():\n",
        "            if isinstance(value, Typed):\n",
        "                value._name = name\n",
        "                order.append(name)\n",
        "        d['_order'] = order\n",
        "        return type.__new__(cls, clsname, bases, d)\n",
        "\n",
        "    @classmethod\n",
        "    def __prepare__(cls, clsname, bases):\n",
        "        return OrderedDict()\n",
        "\n",
        "class Structure(metaclass=OrderedMeta):\n",
        "    def as_csv(self):\n",
        "        return ','.join(str(getattr(self,name)) for name in self._order)\n",
        "\n",
        "class Stock(Structure):\n",
        "    name = String()\n",
        "    shares = Integer()\n",
        "    price = Float()\n",
        "    def __init__(self, name, shares, price):\n",
        "        self.name = name\n",
        "        self.shares = shares\n",
        "        self.price = price\n",
        "\n",
        "if __name__ == '__main__':\n",
        "    s = Stock('GOOG',100,490.1)\n",
        "    print(s.name)\n",
        "    print(s.as_csv())\n",
        "    try:\n",
        "        t = Stock('AAPL','a lot', 610.23)\n",
        "    except TypeError as e:\n",
        "        print(e)\n",
        "\n"
      ],
      "execution_count": null,
      "outputs": [
        {
          "output_type": "stream",
          "text": [
            "GOOG\n",
            "GOOG,100,490.1\n",
            "Expected <class 'int'>\n"
          ],
          "name": "stdout"
        }
      ]
    },
    {
      "cell_type": "markdown",
      "metadata": {
        "id": "_5kD5W4CHm54"
      },
      "source": [
        "## 옵션 매개변수를 받는 메타클래스 정의"
      ]
    },
    {
      "cell_type": "code",
      "metadata": {
        "id": "fqwSBOosHm55"
      },
      "source": [
        "class MyMeta(type):\n",
        "    @classmethod\n",
        "    def __prepare__(cls, name, bases, *, debug=False, synchronize=False):\n",
        "        return super().__prepare__(name, bases)\n",
        "\n",
        "    def __new__(cls, name, bases, ns, *, debug=False, synchronize=False):\n",
        "        return super().__new__(cls, name, bases, ns)\n",
        "        \n",
        "    def __init__(self, name, bases, ns, *, debug=False, synchronize=False):\n",
        "        super().__init__(name, bases, ns)\n",
        "\n",
        "class A(metaclass=MyMeta, debug=True, synchronize=True):\n",
        "    pass\n",
        "\n",
        "class B(metaclass=MyMeta):\n",
        "    pass\n",
        "\n",
        "class C(metaclass=MyMeta, synchronize=True):\n",
        "    pass"
      ],
      "execution_count": 4,
      "outputs": []
    },
    {
      "cell_type": "markdown",
      "metadata": {
        "id": "C8wSUfHXHm59"
      },
      "source": [
        "## \\*args, **kwargs에 매개변수 시그니처 강제"
      ]
    },
    {
      "cell_type": "code",
      "metadata": {
        "id": "RpgDzz5GROko",
        "outputId": "7280c9ab-5550-4472-c9f9-465b6c58a83d",
        "colab": {
          "base_uri": "https://localhost:8080/",
          "height": 34
        }
      },
      "source": [
        "from inspect import Signature, Parameter\n",
        "parms = [Parameter('x', Parameter.POSITIONAL_OR_KEYWORD),\n",
        "         Parameter('y', Parameter.POSITIONAL_OR_KEYWORD, default=42),\n",
        "         Parameter('z', Parameter.KEYWORD_ONLY, default=None)]\n",
        "sig = Signature(parms)\n",
        "print(sig)"
      ],
      "execution_count": 10,
      "outputs": [
        {
          "output_type": "stream",
          "text": [
            "(x, y=42, *, z=None)\n"
          ],
          "name": "stdout"
        }
      ]
    },
    {
      "cell_type": "code",
      "metadata": {
        "id": "9V5tp-arHm5_",
        "outputId": "01564864-ab6a-426b-c1c1-afc61b92e1a6"
      },
      "source": [
        "from inspect import Signature, Parameter\n",
        "\n",
        "def make_sig(*names):\n",
        "    parms = [Parameter(name, Parameter.POSITIONAL_OR_KEYWORD)\n",
        "             for name in names]\n",
        "    return Signature(parms)\n",
        "\n",
        "class Structure:\n",
        "    __signature__ = make_sig()\n",
        "    def __init__(self, *args, **kwargs):\n",
        "        bound_values = self.__signature__.bind(*args, **kwargs)\n",
        "        for name, value in bound_values.arguments.items():\n",
        "            setattr(self, name, value)\n",
        "\n",
        "class Stock(Structure):\n",
        "    __signature__ = make_sig('name', 'shares', 'price')\n",
        "\n",
        "class Point(Structure):\n",
        "    __signature__ = make_sig('x', 'y')\n",
        "\n",
        "if __name__ == '__main__':\n",
        "    s1 = Stock('ACME', 100, 490.1)\n",
        "    print(s1.name, s1.shares, s1.price)\n",
        "\n",
        "    s2 = Stock(shares=100, name='ACME', price=490.1)\n",
        "    print(s2.name, s2.shares, s2.price)\n",
        "\n",
        "    try:\n",
        "        s3 = Stock('ACME', 100)\n",
        "    except TypeError as e:\n",
        "        print(e)\n",
        "\n",
        "    try:\n",
        "        s4 = Stock('ACME', 100, 490.1, '6/1/2020')\n",
        "    except TypeError as e:\n",
        "        print(e)\n",
        "\n",
        "    try:\n",
        "        s5 = Stock('ACME', 100, name='ACME', price=490.1)\n",
        "    except TypeError as e:\n",
        "        print(e)"
      ],
      "execution_count": null,
      "outputs": [
        {
          "output_type": "stream",
          "text": [
            "ACME 100 490.1\n",
            "ACME 100 490.1\n",
            "missing a required argument: 'price'\n",
            "too many positional arguments\n",
            "multiple values for argument 'name'\n"
          ],
          "name": "stdout"
        }
      ]
    },
    {
      "cell_type": "code",
      "metadata": {
        "id": "Vs_j2pPnHm6G",
        "outputId": "93526ef4-197b-4bb5-ff91-aaa6b6c8a228"
      },
      "source": [
        "from inspect import Signature, Parameter\n",
        "        \n",
        "def make_sig(*names):\n",
        "    parms = [Parameter(name, Parameter.POSITIONAL_OR_KEYWORD)\n",
        "             for name in names]\n",
        "    return Signature(parms)\n",
        "\n",
        "class StructureMeta(type):\n",
        "    def __new__(cls, clsname, bases, clsdict):\n",
        "        clsdict['__signature__'] = make_sig(*clsdict.get('_fields',[]))\n",
        "        return super().__new__(cls, clsname, bases, clsdict)\n",
        "\n",
        "class Structure(metaclass=StructureMeta):\n",
        "    _fields = []\n",
        "    def __init__(self, *args, **kwargs):\n",
        "        bound_values = self.__signature__.bind(*args, **kwargs)\n",
        "        for name, value in bound_values.arguments.items():\n",
        "            setattr(self, name, value)\n",
        "\n",
        "class Stock(Structure):\n",
        "    _fields = ['name', 'shares', 'price']\n",
        "\n",
        "class Point(Structure):\n",
        "    _fields = ['x', 'y']\n",
        "\n",
        "if __name__ == '__main__':\n",
        "    s1 = Stock('ACME', 100, 490.1)\n",
        "    print(s1.name, s1.shares, s1.price)\n",
        "\n",
        "    s2 = Stock(shares=100, name='ACME', price=490.1)\n",
        "    print(s2.name, s2.shares, s2.price)\n",
        "\n",
        "    try:\n",
        "        s3 = Stock('ACME', 100)\n",
        "    except TypeError as e:\n",
        "        print(e)\n",
        "\n",
        "    try:\n",
        "        s4 = Stock('ACME', 100, 490.1, '6/1/2020')\n",
        "    except TypeError as e:\n",
        "        print(e)\n",
        "\n",
        "    try:\n",
        "        s5 = Stock('ACME', 100, name='ACME', price=490.1)\n",
        "    except TypeError as e:\n",
        "        print(e)"
      ],
      "execution_count": null,
      "outputs": [
        {
          "output_type": "stream",
          "text": [
            "ACME 100 490.1\n",
            "ACME 100 490.1\n",
            "missing a required argument: 'price'\n",
            "too many positional arguments\n",
            "multiple values for argument 'name'\n"
          ],
          "name": "stdout"
        }
      ]
    },
    {
      "cell_type": "markdown",
      "metadata": {
        "id": "LkuyFJwhHm6L"
      },
      "source": [
        "## 클래스 코딩 규칙 강제"
      ]
    },
    {
      "cell_type": "code",
      "metadata": {
        "id": "fpBUSSeyHm6M",
        "outputId": "4b4ed2a5-3954-4e70-9806-557a1c602f46"
      },
      "source": [
        "class NoMixedCaseMeta(type):\n",
        "    def __new__(cls, clsname, bases, clsdict):\n",
        "        for name in clsdict:\n",
        "            if name.lower() != name:\n",
        "                raise TypeError('Bad attribute name: ' + name)\n",
        "        return super().__new__(cls, clsname, bases, clsdict)\n",
        "\n",
        "class Root(metaclass=NoMixedCaseMeta):\n",
        "    pass\n",
        "\n",
        "class A(Root):\n",
        "    def foo_bar(self):      # Ok\n",
        "        pass\n",
        "\n",
        "print('**** About to generate a TypeError')\n",
        "class B(Root):\n",
        "    def fooBar(self):       # TypeError\n",
        "        pass"
      ],
      "execution_count": null,
      "outputs": [
        {
          "output_type": "stream",
          "text": [
            "**** About to generate a TypeError\n"
          ],
          "name": "stdout"
        },
        {
          "output_type": "error",
          "ename": "TypeError",
          "evalue": "Bad attribute name: fooBar",
          "traceback": [
            "\u001b[1;31m---------------------------------------------------------------------------\u001b[0m",
            "\u001b[1;31mTypeError\u001b[0m                                 Traceback (most recent call last)",
            "\u001b[1;32m<ipython-input-3-7745588507f3>\u001b[0m in \u001b[0;36m<module>\u001b[1;34m\u001b[0m\n\u001b[0;32m     14\u001b[0m \u001b[1;33m\u001b[0m\u001b[0m\n\u001b[0;32m     15\u001b[0m \u001b[0mprint\u001b[0m\u001b[1;33m(\u001b[0m\u001b[1;34m'**** About to generate a TypeError'\u001b[0m\u001b[1;33m)\u001b[0m\u001b[1;33m\u001b[0m\u001b[1;33m\u001b[0m\u001b[0m\n\u001b[1;32m---> 16\u001b[1;33m \u001b[1;32mclass\u001b[0m \u001b[0mB\u001b[0m\u001b[1;33m(\u001b[0m\u001b[0mRoot\u001b[0m\u001b[1;33m)\u001b[0m\u001b[1;33m:\u001b[0m\u001b[1;33m\u001b[0m\u001b[1;33m\u001b[0m\u001b[0m\n\u001b[0m\u001b[0;32m     17\u001b[0m     \u001b[1;32mdef\u001b[0m \u001b[0mfooBar\u001b[0m\u001b[1;33m(\u001b[0m\u001b[0mself\u001b[0m\u001b[1;33m)\u001b[0m\u001b[1;33m:\u001b[0m       \u001b[1;31m# TypeError\u001b[0m\u001b[1;33m\u001b[0m\u001b[1;33m\u001b[0m\u001b[0m\n\u001b[0;32m     18\u001b[0m         \u001b[1;32mpass\u001b[0m\u001b[1;33m\u001b[0m\u001b[1;33m\u001b[0m\u001b[0m\n",
            "\u001b[1;32m<ipython-input-3-7745588507f3>\u001b[0m in \u001b[0;36m__new__\u001b[1;34m(cls, clsname, bases, clsdict)\u001b[0m\n\u001b[0;32m      3\u001b[0m         \u001b[1;32mfor\u001b[0m \u001b[0mname\u001b[0m \u001b[1;32min\u001b[0m \u001b[0mclsdict\u001b[0m\u001b[1;33m:\u001b[0m\u001b[1;33m\u001b[0m\u001b[1;33m\u001b[0m\u001b[0m\n\u001b[0;32m      4\u001b[0m             \u001b[1;32mif\u001b[0m \u001b[0mname\u001b[0m\u001b[1;33m.\u001b[0m\u001b[0mlower\u001b[0m\u001b[1;33m(\u001b[0m\u001b[1;33m)\u001b[0m \u001b[1;33m!=\u001b[0m \u001b[0mname\u001b[0m\u001b[1;33m:\u001b[0m\u001b[1;33m\u001b[0m\u001b[1;33m\u001b[0m\u001b[0m\n\u001b[1;32m----> 5\u001b[1;33m                 \u001b[1;32mraise\u001b[0m \u001b[0mTypeError\u001b[0m\u001b[1;33m(\u001b[0m\u001b[1;34m'Bad attribute name: '\u001b[0m \u001b[1;33m+\u001b[0m \u001b[0mname\u001b[0m\u001b[1;33m)\u001b[0m\u001b[1;33m\u001b[0m\u001b[1;33m\u001b[0m\u001b[0m\n\u001b[0m\u001b[0;32m      6\u001b[0m         \u001b[1;32mreturn\u001b[0m \u001b[0msuper\u001b[0m\u001b[1;33m(\u001b[0m\u001b[1;33m)\u001b[0m\u001b[1;33m.\u001b[0m\u001b[0m__new__\u001b[0m\u001b[1;33m(\u001b[0m\u001b[0mcls\u001b[0m\u001b[1;33m,\u001b[0m \u001b[0mclsname\u001b[0m\u001b[1;33m,\u001b[0m \u001b[0mbases\u001b[0m\u001b[1;33m,\u001b[0m \u001b[0mclsdict\u001b[0m\u001b[1;33m)\u001b[0m\u001b[1;33m\u001b[0m\u001b[1;33m\u001b[0m\u001b[0m\n\u001b[0;32m      7\u001b[0m \u001b[1;33m\u001b[0m\u001b[0m\n",
            "\u001b[1;31mTypeError\u001b[0m: Bad attribute name: fooBar"
          ]
        }
      ]
    },
    {
      "cell_type": "markdown",
      "metadata": {
        "id": "pLB4WGSsTVo1"
      },
      "source": [
        "* 상속 받았을때 부모의 메소드와 동일하게 파라미터 설정하도록 강제할때\n",
        "* 메타 클래스는 type을 상속 받아서 정의"
      ]
    },
    {
      "cell_type": "code",
      "metadata": {
        "id": "dcrJcrEqHm6S",
        "outputId": "307fba4a-89af-414e-c703-be60e20f1f34",
        "colab": {
          "base_uri": "https://localhost:8080/",
          "height": 51
        }
      },
      "source": [
        "from inspect import signature\n",
        "import logging\n",
        "\n",
        "class MatchSignaturesMeta(type):\n",
        "    def __init__(self, clsname, bases, clsdict):\n",
        "        super().__init__(clsname, bases, clsdict)\n",
        "        sup = super(self, self)\n",
        "        for name, value in clsdict.items():\n",
        "            if name.startswith('_') or not callable(value):\n",
        "                continue\n",
        "            prev_dfn = getattr(sup,name,None)\n",
        "            if prev_dfn:\n",
        "                prev_sig = signature(prev_dfn)\n",
        "                val_sig = signature(value)\n",
        "                if prev_sig != val_sig:\n",
        "                    logging.warning('Signature mismatch in %s. %s != %s',\n",
        "                                value.__qualname__, str(prev_sig), str(val_sig))\n",
        "\n",
        "class Root(metaclass=MatchSignaturesMeta):\n",
        "    pass\n",
        "\n",
        "class A(Root):\n",
        "    def foo(self, x, y):\n",
        "        pass\n",
        "\n",
        "    def spam(self, x, *, z):\n",
        "        pass\n",
        "\n",
        "class B(A):\n",
        "    def foo(self, a, b):\n",
        "        pass\n",
        "\n",
        "    def spam(self,x,z):\n",
        "        pass"
      ],
      "execution_count": 2,
      "outputs": [
        {
          "output_type": "stream",
          "text": [
            "WARNING:root:Signature mismatch in B.foo. (self, x, y) != (self, a, b)\n",
            "WARNING:root:Signature mismatch in B.spam. (self, x, *, z) != (self, x, z)\n"
          ],
          "name": "stderr"
        }
      ]
    },
    {
      "cell_type": "markdown",
      "metadata": {
        "id": "p6zAnBdbHm6Y"
      },
      "source": [
        "## 클래스를 프로그램적으로 정의"
      ]
    },
    {
      "cell_type": "code",
      "metadata": {
        "id": "p6etHBYDHm6Z",
        "outputId": "2066c953-caf7-489a-b02d-3347e8b5dd8e"
      },
      "source": [
        "def __init__(self, name, shares, price):\n",
        "    self.name = name\n",
        "    self.shares = shares\n",
        "    self.price = price\n",
        "\n",
        "def cost(self):\n",
        "    return self.shares * self.price\n",
        "\n",
        "cls_dict = {\n",
        "    '__init__' : __init__,\n",
        "    'cost' : cost,\n",
        "}\n",
        "\n",
        "import types\n",
        "\n",
        "Stock = types.new_class('Stock', (), {}, lambda ns: ns.update(cls_dict))\n",
        "\n",
        "if __name__ == '__main__':\n",
        "    s = Stock('ACME', 50, 91.1)\n",
        "    print(s)\n",
        "    print(s.cost())"
      ],
      "execution_count": null,
      "outputs": [
        {
          "output_type": "stream",
          "text": [
            "<types.Stock object at 0x0000017BC2A4F9C8>\n",
            "4555.0\n"
          ],
          "name": "stdout"
        }
      ]
    },
    {
      "cell_type": "markdown",
      "metadata": {
        "id": "xBfbYixlVozt"
      },
      "source": [
        "* named_tuple을 직접 만든 코드\n",
        "* named_tuple 함수 안에서 classname으로 클래스를 만들어서 cls를 리턴해줌"
      ]
    },
    {
      "cell_type": "code",
      "metadata": {
        "id": "qiJHFUjqHm6g",
        "outputId": "69ba3bdd-e45c-4e8f-95e5-75d50b96092c"
      },
      "source": [
        "import operator\n",
        "import types\n",
        "import sys\n",
        "\n",
        "def named_tuple(classname, fieldnames):\n",
        "    cls_dict = { name: property(operator.itemgetter(n))\n",
        "                 for n, name in enumerate(fieldnames) }\n",
        "\n",
        "    def __new__(cls, *args):\n",
        "        if len(args) != len(fieldnames):\n",
        "            raise TypeError('Expected {} arguments'.format(len(fieldnames)))\n",
        "        return tuple.__new__(cls, (args))\n",
        "\n",
        "    cls_dict['__new__'] = __new__\n",
        "\n",
        "    cls = types.new_class(classname, (tuple,), {}, \n",
        "                           lambda ns: ns.update(cls_dict))\n",
        "    cls.__module__ = sys._getframe(1).f_globals['__name__']\n",
        "    return cls\n",
        "\n",
        "if __name__ == '__main__':\n",
        "    Point = named_tuple('Point', ['x', 'y'])\n",
        "    print(Point)\n",
        "    p = Point(4, 5)\n",
        "    print(len(p))\n",
        "    print(p.x, p[0])\n",
        "    print(p.y, p[1])\n",
        "    try:\n",
        "        p.x = 2\n",
        "    except AttributeError as e:\n",
        "        print(e)\n",
        "    print('%s %s' % p)"
      ],
      "execution_count": null,
      "outputs": [
        {
          "output_type": "stream",
          "text": [
            "<class '__main__.Point'>\n",
            "2\n",
            "4 4\n",
            "5 5\n",
            "can't set attribute\n",
            "4 5\n"
          ],
          "name": "stdout"
        }
      ]
    },
    {
      "cell_type": "markdown",
      "metadata": {
        "id": "0dmmGG1YHm6q"
      },
      "source": [
        "## 정의 시 클래스 멤버 초기화"
      ]
    },
    {
      "cell_type": "markdown",
      "metadata": {
        "id": "udVTrqFcV6p_"
      },
      "source": [
        "* 위 예제를 type을 상속 받은 클래스로 구현한 버전"
      ]
    },
    {
      "cell_type": "code",
      "metadata": {
        "id": "meAMkDU9Hm6s",
        "outputId": "aeba6ac8-a372-496b-a396-8d27db526445",
        "colab": {
          "base_uri": "https://localhost:8080/",
          "height": 255
        }
      },
      "source": [
        "import operator\n",
        "\n",
        "class StructTupleMeta(type):\n",
        "    def __init__(cls, *args, **kwargs):\n",
        "        super().__init__(*args, **kwargs)\n",
        "        print(\"StructTupleMeta_getter assigned\")\n",
        "        for n, name in enumerate(cls._fields_):\n",
        "            print(f'\\t {n} is {name}')\n",
        "            setattr(cls, name, property(operator.itemgetter(n)))\n",
        "\n",
        "class StructTuple(tuple, metaclass=StructTupleMeta):\n",
        "    _fields_ = []\n",
        "    def __new__(cls, *args):\n",
        "        print(\"Memory Allocated\")\n",
        "        if len(args) != len(cls._fields_):\n",
        "            raise ValueError('{} arguments required'.format(len(cls._fields_)))\n",
        "        return super().__new__(cls,args)\n",
        "\n",
        "class Stock(StructTuple):\n",
        "    _fields_ = ['name', 'shares', 'price']\n",
        "\n",
        "class Point(StructTuple):\n",
        "    _fields_ = ['x', 'y']\n",
        "\n",
        "\n",
        "if __name__ == '__main__':\n",
        "    s = Stock('ACME', 50, 91.1)\n",
        "    print(s)\n",
        "    print(s[0])\n",
        "    print(s.name)\n",
        "    print(s.shares * s.price)\n",
        "    try:\n",
        "        s.shares = 23\n",
        "    except AttributeError as e:\n",
        "        print(e)\n"
      ],
      "execution_count": 11,
      "outputs": [
        {
          "output_type": "stream",
          "text": [
            "StructTupleMeta_getter assigned\n",
            "StructTupleMeta_getter assigned\n",
            "\t 0 is name\n",
            "\t 1 is shares\n",
            "\t 2 is price\n",
            "StructTupleMeta_getter assigned\n",
            "\t 0 is x\n",
            "\t 1 is y\n",
            "Memory Allocated\n",
            "('ACME', 50, 91.1)\n",
            "ACME\n",
            "ACME\n",
            "4555.0\n",
            "can't set attribute\n"
          ],
          "name": "stdout"
        }
      ]
    },
    {
      "cell_type": "code",
      "metadata": {
        "id": "WhMdND9KXSfh"
      },
      "source": [
        ""
      ],
      "execution_count": null,
      "outputs": []
    }
  ]
}