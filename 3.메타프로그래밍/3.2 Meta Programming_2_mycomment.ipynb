{
  "nbformat": 4,
  "nbformat_minor": 0,
  "metadata": {
    "kernelspec": {
      "display_name": "Python 3",
      "language": "python",
      "name": "python3"
    },
    "language_info": {
      "codemirror_mode": {
        "name": "ipython",
        "version": 3
      },
      "file_extension": ".py",
      "mimetype": "text/x-python",
      "name": "python",
      "nbconvert_exporter": "python",
      "pygments_lexer": "ipython3",
      "version": "3.7.6"
    },
    "colab": {
      "name": "3.2 Meta Programming_2.ipynb",
      "provenance": []
    }
  },
  "cells": [
    {
      "cell_type": "markdown",
      "metadata": {
        "id": "nHILrI33oD_K"
      },
      "source": [
        "## 데코레이터를 사용해서 함수에서 타입 확인 강제"
      ]
    },
    {
      "cell_type": "code",
      "metadata": {
        "id": "c5-5-yuxoD_L",
        "outputId": "859ef121-236b-4098-f531-ff45a5106a21"
      },
      "source": [
        "from inspect import signature\n",
        "from functools import wraps\n",
        "\n",
        "def typeassert(*ty_args, **ty_kwargs):\n",
        "    def decorate(func):\n",
        "        if not __debug__:\n",
        "            return func\n",
        "\n",
        "        sig = signature(func)\n",
        "        bound_types = sig.bind_partial(*ty_args, **ty_kwargs).arguments\n",
        "\n",
        "        @wraps(func)\n",
        "        def wrapper(*args, **kwargs):\n",
        "            bound_values = sig.bind(*args, **kwargs)\n",
        "\n",
        "            for name, value in bound_values.arguments.items():\n",
        "                if name in bound_types:\n",
        "                    if not isinstance(value, bound_types[name]):\n",
        "                        raise TypeError(\n",
        "                            'Argument {} must be {}'.format(name, bound_types[name])\n",
        "                            )\n",
        "            return func(*args, **kwargs)\n",
        "        return wrapper\n",
        "    return decorate\n",
        "\n",
        "@typeassert(int, int)\n",
        "def add(x, y):\n",
        "    return x + y\n",
        "\n",
        "@typeassert(int, z=int)\n",
        "def spam(x, y, z=42):\n",
        "    print(x, y, z)\n",
        "\n",
        "if __name__ == '__main__':\n",
        "    print(add(2,3))\n",
        "    try:\n",
        "        add(2, 'hello')\n",
        "    except TypeError as e:\n",
        "        print(e)\n",
        "\n",
        "    spam(1, 2, 3)\n",
        "    spam(1, 'hello', 3)\n",
        "    try:\n",
        "        spam(1, 'hello', 'world')\n",
        "    except TypeError as e:\n",
        "        print(e)"
      ],
      "execution_count": null,
      "outputs": [
        {
          "output_type": "stream",
          "text": [
            "5\n",
            "Argument y must be <class 'int'>\n",
            "1 2 3\n",
            "1 hello 3\n",
            "Argument z must be <class 'int'>\n"
          ],
          "name": "stdout"
        }
      ]
    },
    {
      "cell_type": "markdown",
      "metadata": {
        "id": "FiTQxUG8oD_R"
      },
      "source": [
        "## 데코레이터를 클래스의 일부로 정의"
      ]
    },
    {
      "cell_type": "code",
      "metadata": {
        "id": "EEVsg-s7oD_S",
        "outputId": "6bb2f914-d2d3-4aa6-b7b1-d06500e0c7db"
      },
      "source": [
        "from functools import wraps\n",
        "\n",
        "class A:\n",
        "    def decorator1(self, func):\n",
        "        @wraps(func)\n",
        "        def wrapper(*args, **kwargs):\n",
        "            print('Decorator 1')\n",
        "            return func(*args, **kwargs)\n",
        "        return wrapper\n",
        "\n",
        "    @classmethod\n",
        "    def decorator2(cls, func):\n",
        "        @wraps(func)\n",
        "        def wrapper(*args, **kwargs):\n",
        "            print('Decorator 2')\n",
        "            return func(*args, **kwargs)\n",
        "        return wrapper\n",
        "\n",
        "a = A()\n",
        "\n",
        "@a.decorator1\n",
        "def spam():\n",
        "    pass\n",
        "\n",
        "@A.decorator2\n",
        "def grok():\n",
        "    pass\n",
        "\n",
        "spam()\n",
        "grok()\n"
      ],
      "execution_count": null,
      "outputs": [
        {
          "output_type": "stream",
          "text": [
            "Decorator 1\n",
            "Decorator 2\n"
          ],
          "name": "stdout"
        }
      ]
    },
    {
      "cell_type": "code",
      "metadata": {
        "id": "33CEoYdSoD_V",
        "outputId": "995e5949-a918-41d1-af3f-93f6f0daddbf"
      },
      "source": [
        "class Person:\n",
        "    first_name = property()\n",
        "    @first_name.getter\n",
        "    def first_name(self):\n",
        "        return self._first_name\n",
        "\n",
        "    @first_name.setter\n",
        "    def first_name(self, value):\n",
        "        if not isinstance(value, str):\n",
        "            raise TypeError('Expected a string')\n",
        "        self._first_name = value\n",
        "\n",
        "p = Person()\n",
        "p.first_name = 'Dave'\n",
        "print(p.first_name)"
      ],
      "execution_count": null,
      "outputs": [
        {
          "output_type": "stream",
          "text": [
            "Dave\n"
          ],
          "name": "stdout"
        }
      ]
    },
    {
      "cell_type": "markdown",
      "metadata": {
        "id": "7OvP0xgpoD_Z"
      },
      "source": [
        "## 클래스 데코레이터 정의"
      ]
    },
    {
      "cell_type": "code",
      "metadata": {
        "id": "0GYVqIGpoD_Z",
        "outputId": "3e1ff07d-83ff-4250-aad5-d7261413f34f"
      },
      "source": [
        "import types\n",
        "from functools import wraps\n",
        "       \n",
        "class Profiled:\n",
        "    def __init__(self, func):\n",
        "        wraps(func)(self)\n",
        "        self.ncalls = 0\n",
        "\n",
        "    def __call__(self, *args, **kwargs):\n",
        "        self.ncalls += 1\n",
        "        return self.__wrapped__(*args, **kwargs)\n",
        "\n",
        "    def __get__(self, instance, cls):\n",
        "        if instance is None:\n",
        "            return self\n",
        "        else:\n",
        "            return types.MethodType(self, instance)\n",
        "\n",
        "@Profiled\n",
        "def add(x, y):\n",
        "    return x + y\n",
        "\n",
        "class Spam:\n",
        "    @Profiled\n",
        "    def bar(self, x):\n",
        "        print(self, x)\n",
        "\n",
        "if __name__ == '__main__':\n",
        "    print(add(2,3))\n",
        "    print(add(4,5))\n",
        "    print('ncalls:', add.ncalls)\n",
        "\n",
        "    s = Spam()\n",
        "    s.bar(1)\n",
        "    s.bar(2)\n",
        "    s.bar(3)\n",
        "    print('ncalls:', Spam.bar.ncalls)\n"
      ],
      "execution_count": null,
      "outputs": [
        {
          "output_type": "stream",
          "text": [
            "5\n",
            "9\n",
            "ncalls: 2\n",
            "<__main__.Spam object at 0x000001CB4FA47908> 1\n",
            "<__main__.Spam object at 0x000001CB4FA47908> 2\n",
            "<__main__.Spam object at 0x000001CB4FA47908> 3\n",
            "ncalls: 3\n"
          ],
          "name": "stdout"
        }
      ]
    },
    {
      "cell_type": "code",
      "metadata": {
        "id": "HXYU4W1toD_d",
        "outputId": "bf3fe5b5-6680-4772-96ef-32663e795112"
      },
      "source": [
        "from functools import wraps\n",
        "\n",
        "def profiled(func):\n",
        "    ncalls = 0\n",
        "    @wraps(func)\n",
        "    def wrapper(*args, **kwargs):\n",
        "        nonlocal ncalls\n",
        "        ncalls += 1\n",
        "        return func(*args, **kwargs)\n",
        "    wrapper.ncalls = lambda: ncalls\n",
        "    return wrapper\n",
        "\n",
        "@profiled\n",
        "def add(x, y):\n",
        "    return x + y\n",
        "\n",
        "class Spam:\n",
        "    @profiled\n",
        "    def bar(self, x):\n",
        "        print(self, x)\n",
        "\n",
        "if __name__ == '__main__':\n",
        "    print(add(2,3))\n",
        "    print(add(4,5))\n",
        "    print('ncalls:', add.ncalls())\n",
        "\n",
        "    s = Spam()\n",
        "    s.bar(1)\n",
        "    s.bar(2)\n",
        "    s.bar(3)\n",
        "    print('ncalls:', Spam.bar.ncalls())"
      ],
      "execution_count": null,
      "outputs": [
        {
          "output_type": "stream",
          "text": [
            "5\n",
            "9\n",
            "ncalls: 2\n",
            "<__main__.Spam object at 0x000001CB4FA47DC8> 1\n",
            "<__main__.Spam object at 0x000001CB4FA47DC8> 2\n",
            "<__main__.Spam object at 0x000001CB4FA47DC8> 3\n",
            "ncalls: 3\n"
          ],
          "name": "stdout"
        }
      ]
    },
    {
      "cell_type": "markdown",
      "metadata": {
        "id": "OJvjNhr6oD_g"
      },
      "source": [
        "## 클래스와 스태틱 메소드에 데코레이터 적용"
      ]
    },
    {
      "cell_type": "code",
      "metadata": {
        "id": "9nKOT9EYoD_h",
        "outputId": "8d32638f-61d5-4834-9772-b1a39e5ddd64"
      },
      "source": [
        "import time\n",
        "from functools import wraps\n",
        "\n",
        "def timethis(func):\n",
        "    @wraps(func)\n",
        "    def wrapper(*args, **kwargs):\n",
        "        start = time.time()\n",
        "        r = func(*args, **kwargs)\n",
        "        end = time.time()\n",
        "        print(func.__name__, end - start)\n",
        "        return r\n",
        "    return wrapper\n",
        "\n",
        "def profiled(func):\n",
        "    ncalls = 0\n",
        "    @wraps(func)\n",
        "    def wrapper(*args, **kwargs):\n",
        "        nonlocal ncalls\n",
        "        ncalls += 1\n",
        "        return func(*args, **kwargs)\n",
        "    wrapper.ncalls = lambda: ncalls\n",
        "    return wrapper\n",
        "\n",
        "@profiled\n",
        "def add(x, y):\n",
        "    return x + y\n",
        "\n",
        "class Spam:\n",
        "    @profiled\n",
        "    def bar(self, x):\n",
        "        print(self, x)\n",
        "\n",
        "@timethis\n",
        "@profiled\n",
        "def countdown(n):\n",
        "    while n > 0:\n",
        "        n -= 1\n",
        "\n",
        "if __name__ == '__main__':\n",
        "    print(add(2,3))\n",
        "    print(add(4,5))\n",
        "    print('ncalls:', add.ncalls())\n",
        "\n",
        "    s = Spam()\n",
        "    s.bar(1)\n",
        "    s.bar(2)\n",
        "    s.bar(3)\n",
        "    print('ncalls:', Spam.bar.ncalls())\n",
        "\n",
        "    countdown(100000)\n",
        "    countdown(10000000)\n",
        "    print(countdown.ncalls())\n"
      ],
      "execution_count": null,
      "outputs": [
        {
          "output_type": "stream",
          "text": [
            "5\n",
            "9\n",
            "ncalls: 2\n",
            "<__main__.Spam object at 0x000001CB4F916988> 1\n",
            "<__main__.Spam object at 0x000001CB4F916988> 2\n",
            "<__main__.Spam object at 0x000001CB4F916988> 3\n",
            "ncalls: 3\n",
            "countdown 0.0039348602294921875\n",
            "countdown 0.46652650833129883\n",
            "2\n"
          ],
          "name": "stdout"
        }
      ]
    },
    {
      "cell_type": "code",
      "metadata": {
        "id": "xAXUSHAVoD_l",
        "outputId": "8c2cca88-5a8d-4e14-e614-989c577ca5b0"
      },
      "source": [
        "import time\n",
        "from functools import wraps\n",
        "\n",
        "def timethis(func):\n",
        "    @wraps(func)\n",
        "    def wrapper(*args, **kwargs):\n",
        "        start = time.time()\n",
        "        r = func(*args, **kwargs)\n",
        "        end = time.time()\n",
        "        print(end-start)\n",
        "        return r\n",
        "    return wrapper\n",
        "\n",
        "class Spam:\n",
        "    @timethis\n",
        "    def instance_method(self, n):\n",
        "        print(self, n)\n",
        "        while n > 0:\n",
        "            n -= 1\n",
        "\n",
        "    @classmethod\n",
        "    @timethis\n",
        "    def class_method(cls, n):\n",
        "        print(cls, n)\n",
        "        while n > 0:\n",
        "            n -= 1\n",
        "\n",
        "    @staticmethod\n",
        "    @timethis\n",
        "    def static_method(n):\n",
        "        print(n)\n",
        "        while n > 0:\n",
        "            n -= 1\n",
        "\n",
        "if __name__ == '__main__':\n",
        "    s = Spam()\n",
        "    s.instance_method(10000000)\n",
        "    Spam.class_method(10000000)\n",
        "    Spam.static_method(10000000)\n"
      ],
      "execution_count": null,
      "outputs": [
        {
          "output_type": "stream",
          "text": [
            "<__main__.Spam object at 0x000001CB4F9F1848> 10000000\n",
            "0.48311805725097656\n",
            "<class '__main__.Spam'> 10000000\n",
            "0.4626448154449463\n",
            "10000000\n",
            "0.5026047229766846\n"
          ],
          "name": "stdout"
        }
      ]
    },
    {
      "cell_type": "markdown",
      "metadata": {
        "id": "xeHtojSjoD_p"
      },
      "source": [
        "## 감싼 함수에 매개변수를 추가하는 데코레이터 작성"
      ]
    },
    {
      "cell_type": "code",
      "metadata": {
        "id": "xsW41TuMoD_q",
        "outputId": "f2ec0c2f-d6c1-407c-b24e-e1f70423aa06"
      },
      "source": [
        "from functools import wraps\n",
        "\n",
        "def optional_debug(func):\n",
        "    @wraps(func)\n",
        "    def wrapper(*args, debug=False, **kwargs):\n",
        "        if debug:\n",
        "            print('Calling', func.__name__)\n",
        "        return func(*args, **kwargs)\n",
        "    return wrapper\n",
        "\n",
        "@optional_debug\n",
        "def spam(a, b, c):\n",
        "    print(a, b, c)\n",
        "\n",
        "spam(1, 2, 3)\n",
        "spam(1, 2, 3, debug=True)"
      ],
      "execution_count": null,
      "outputs": [
        {
          "output_type": "stream",
          "text": [
            "1 2 3\n",
            "Calling spam\n",
            "1 2 3\n"
          ],
          "name": "stdout"
        }
      ]
    },
    {
      "cell_type": "markdown",
      "metadata": {
        "id": "2xFjCU6SoD_t"
      },
      "source": [
        "## 클래스 정의 패치에 데코레이터 사용"
      ]
    },
    {
      "cell_type": "code",
      "metadata": {
        "id": "tQcpMirMoD_u",
        "outputId": "5a73d7b3-5a58-4c91-ad1c-0e4d56397c0e"
      },
      "source": [
        "def log_getattribute(cls):\n",
        "    orig_getattribute = cls.__getattribute__\n",
        "\n",
        "    def new_getattribute(self, name):\n",
        "        print('getting:', name)\n",
        "        return orig_getattribute(self, name)\n",
        "\n",
        "    cls.__getattribute__ = new_getattribute\n",
        "    return cls\n",
        "\n",
        "@log_getattribute\n",
        "class A:\n",
        "    def __init__(self,x):\n",
        "        self.x = x\n",
        "    def spam(self):\n",
        "        pass\n",
        "\n",
        "if __name__ == '__main__':\n",
        "    a = A(42)\n",
        "    print(a.x)\n",
        "    a.spam()"
      ],
      "execution_count": null,
      "outputs": [
        {
          "output_type": "stream",
          "text": [
            "getting: x\n",
            "42\n",
            "getting: spam\n"
          ],
          "name": "stdout"
        }
      ]
    },
    {
      "cell_type": "code",
      "metadata": {
        "id": "H3lWadfKoD_x"
      },
      "source": [
        ""
      ],
      "execution_count": null,
      "outputs": []
    }
  ]
}