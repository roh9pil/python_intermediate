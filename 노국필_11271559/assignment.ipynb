{
 "cells": [
  {
   "cell_type": "markdown",
   "metadata": {},
   "source": [
    "# 1. 대중 교통 데이터 내려 받기\n",
    "* BeautifulSoup 과 Selenium을 이용한 데이터 자동 다운 로드 구현\n",
    "* 홈페이지 ( https://www.t-money.co.kr ) 에서 제공함\n",
    "* 홈페이지 접속 >> 이용안내 클릭 >> 대중교통 통계자료 >> 5월 통계자료>> 첨부 파일 다운로드"
   ]
  },
  {
   "cell_type": "code",
   "execution_count": 28,
   "metadata": {},
   "outputs": [
    {
     "name": "stdout",
     "output_type": "stream",
     "text": [
      "https://pay.tmoney.co.kr/ncs/pct/ugd/ReadTrcrStstList.dev\n"
     ]
    }
   ],
   "source": [
    "import requests\n",
    "from bs4 import BeautifulSoup\n",
    "from selenium import webdriver\n",
    "from selenium.webdriver.common.desired_capabilities import DesiredCapabilities\n",
    "\n",
    "base_url = 'https://pay.tmoney.co.kr'\n",
    "def newrequest(url):\n",
    "    _proxies = {\n",
    "      'http': 'http://12.26.226.2:8080',\n",
    "      'https': 'http://12.26.226.2:8080',\n",
    "    }\n",
    "    _verify=\"semi_samsung.crt\"\n",
    "    return requests.get(url, proxies=_proxies, verify=_verify)\n",
    "\n",
    "driver = webdriver.Remote(command_executor='http://12.36.185.100:4444/wd/hub', \n",
    "                          desired_capabilities=DesiredCapabilities.CHROME)\n",
    "\n",
    "main_window_handle = None\n",
    "info_window_handle = None\n",
    "\n",
    "driver.implicitly_wait(3)\n",
    "driver.get(\"https://www.t-money.co.kr\")\n",
    "driver.implicitly_wait(20)\n",
    "\n",
    "# 현재 window handle을 저장\n",
    "while not main_window_handle:\n",
    "    main_window_handle = driver.current_window_handle\n",
    "\n",
    "# 이용안내 클릭\n",
    "driver.find_element_by_id('ugd').click()\n",
    "driver.implicitly_wait(5)\n",
    "\n",
    "# 이용안내 pop up windows로 이동하기 위해 info window 설정\n",
    "while not info_window_handle:\n",
    "    for handle in driver.window_handles:\n",
    "        if handle != main_window_handle:\n",
    "            info_window_handle = handle\n",
    "            break\n",
    "# 이용안내 pop up window 로 이동\n",
    "driver.switch_to.window(info_window_handle)\n",
    "html_src = driver.page_source\n",
    "\n",
    "# 대중교통 통계자료 URL을 얻기 위해 BeautifulSoup 사용해서 파싱\n",
    "soup = BeautifulSoup(html_src, 'html.parser')\n",
    "pub_transportation = soup.select('#wrap > div.black_box.clfix > article.article_type03.link_list04.article_top > p:nth-child(1) > a')\n",
    "target_url = base_url + pub_transportation[0].get('href')\n",
    "print(target_url)\n",
    "\n",
    "# 불필요한 창 닫기\n",
    "driver.close()\n",
    "driver.switch_to.window(main_window_handle)\n",
    "driver.close()\n"
   ]
  },
  {
   "cell_type": "code",
   "execution_count": 30,
   "metadata": {},
   "outputs": [
    {
     "name": "stdout",
     "output_type": "stream",
     "text": [
      "파일 다운로드 완료\n"
     ]
    }
   ],
   "source": [
    "import time\n",
    "# 대중교통 통계자료 자료 게시판으로 가서 5월 통계 자료 다운로드 \n",
    "driver = webdriver.Remote(command_executor='http://12.36.185.100:4444/wd/hub', \n",
    "                          desired_capabilities=DesiredCapabilities.CHROME)\n",
    "driver.get(target_url)\n",
    "driver.implicitly_wait(3)\n",
    "\n",
    "# 5월 통계 자료 & \n",
    "driver.find_element_by_css_selector('#contents > div.tabletype03.tb_common.tb_notice.gap_20 > table > tbody > tr:nth-child(5) > td.a_left > a').click()\n",
    "driver.implicitly_wait(3)\n",
    "# 첨부파일 다운로드하기 \n",
    "driver.find_element_by_css_selector('#contents > div.view_box > div.view_bot.clfix > dl.view_file.clfix > dd > a').click()\n",
    "time.sleep(10)\n",
    "driver.close()\n",
    "\n",
    "print(\"파일 다운로드 완료\")"
   ]
  },
  {
   "cell_type": "markdown",
   "metadata": {},
   "source": [
    "## 2. 유임 승차 비율이 높은 상위 5개 역을 출력하는 기능 구현\n",
    "- 제공 : 지하철 유무임별 이용현황.csv \n",
    "- 유임 승차 비율 = 유임승차인원/전체승차인원"
   ]
  },
  {
   "cell_type": "code",
   "execution_count": 54,
   "metadata": {},
   "outputs": [],
   "source": [
    "import pandas as pd\n",
    "\n",
    "df = pd.read_csv(\"지하철 유무임별 이용현황.csv\", encoding='cp949')"
   ]
  },
  {
   "cell_type": "code",
   "execution_count": 55,
   "metadata": {},
   "outputs": [],
   "source": [
    "# type 변환\n",
    "df['유임승차'] = df['유임승차'].apply(lambda x: x.replace(\",\",\"\")).astype(int)\n",
    "df['무임승차'] = df['무임승차'].apply(lambda x: x.replace(\",\",\"\")).astype(int)"
   ]
  },
  {
   "cell_type": "code",
   "execution_count": 56,
   "metadata": {},
   "outputs": [],
   "source": [
    "# 비율 추가\n",
    "df['ratio'] = df.apply(lambda x: int(x['유임승차'])/(int(x['유임승차'])+int(x['무임승차'])),axis=1)"
   ]
  },
  {
   "cell_type": "code",
   "execution_count": 57,
   "metadata": {},
   "outputs": [
    {
     "data": {
      "text/html": [
       "<div>\n",
       "<style scoped>\n",
       "    .dataframe tbody tr th:only-of-type {\n",
       "        vertical-align: middle;\n",
       "    }\n",
       "\n",
       "    .dataframe tbody tr th {\n",
       "        vertical-align: top;\n",
       "    }\n",
       "\n",
       "    .dataframe thead th {\n",
       "        text-align: right;\n",
       "    }\n",
       "</style>\n",
       "<table border=\"1\" class=\"dataframe\">\n",
       "  <thead>\n",
       "    <tr style=\"text-align: right;\">\n",
       "      <th></th>\n",
       "      <th>사용월</th>\n",
       "      <th>호선명</th>\n",
       "      <th>역ID</th>\n",
       "      <th>지하철역</th>\n",
       "      <th>유임승차</th>\n",
       "      <th>유임하차</th>\n",
       "      <th>무임승차</th>\n",
       "      <th>무임하차</th>\n",
       "      <th>작업일시</th>\n",
       "      <th>ratio</th>\n",
       "    </tr>\n",
       "  </thead>\n",
       "  <tbody>\n",
       "    <tr>\n",
       "      <th>463</th>\n",
       "      <td>2020-05</td>\n",
       "      <td>6호선</td>\n",
       "      <td>2649</td>\n",
       "      <td>신내</td>\n",
       "      <td>6</td>\n",
       "      <td>0</td>\n",
       "      <td>0</td>\n",
       "      <td>0</td>\n",
       "      <td>2020-06-03 11:49:03</td>\n",
       "      <td>1.0</td>\n",
       "    </tr>\n",
       "    <tr>\n",
       "      <th>328</th>\n",
       "      <td>2020-05</td>\n",
       "      <td>경의선</td>\n",
       "      <td>1291</td>\n",
       "      <td>서울역</td>\n",
       "      <td>1</td>\n",
       "      <td>0</td>\n",
       "      <td>0</td>\n",
       "      <td>0</td>\n",
       "      <td>2020-06-03 11:49:03</td>\n",
       "      <td>1.0</td>\n",
       "    </tr>\n",
       "    <tr>\n",
       "      <th>192</th>\n",
       "      <td>2020-05</td>\n",
       "      <td>경원선</td>\n",
       "      <td>1022</td>\n",
       "      <td>창동</td>\n",
       "      <td>11</td>\n",
       "      <td>0</td>\n",
       "      <td>0</td>\n",
       "      <td>0</td>\n",
       "      <td>2020-06-03 11:49:03</td>\n",
       "      <td>1.0</td>\n",
       "    </tr>\n",
       "    <tr>\n",
       "      <th>237</th>\n",
       "      <td>2020-05</td>\n",
       "      <td>분당선</td>\n",
       "      <td>1031</td>\n",
       "      <td>복정</td>\n",
       "      <td>10</td>\n",
       "      <td>0</td>\n",
       "      <td>0</td>\n",
       "      <td>0</td>\n",
       "      <td>2020-06-03 11:49:03</td>\n",
       "      <td>1.0</td>\n",
       "    </tr>\n",
       "    <tr>\n",
       "      <th>330</th>\n",
       "      <td>2020-05</td>\n",
       "      <td>경의선</td>\n",
       "      <td>1297</td>\n",
       "      <td>검암</td>\n",
       "      <td>4</td>\n",
       "      <td>0</td>\n",
       "      <td>0</td>\n",
       "      <td>0</td>\n",
       "      <td>2020-06-03 11:49:03</td>\n",
       "      <td>1.0</td>\n",
       "    </tr>\n",
       "  </tbody>\n",
       "</table>\n",
       "</div>"
      ],
      "text/plain": [
       "         사용월  호선명   역ID 지하철역  유임승차 유임하차  무임승차 무임하차                 작업일시  ratio\n",
       "463  2020-05  6호선  2649   신내     6    0     0    0  2020-06-03 11:49:03    1.0\n",
       "328  2020-05  경의선  1291  서울역     1    0     0    0  2020-06-03 11:49:03    1.0\n",
       "192  2020-05  경원선  1022   창동    11    0     0    0  2020-06-03 11:49:03    1.0\n",
       "237  2020-05  분당선  1031   복정    10    0     0    0  2020-06-03 11:49:03    1.0\n",
       "330  2020-05  경의선  1297   검암     4    0     0    0  2020-06-03 11:49:03    1.0"
      ]
     },
     "execution_count": 57,
     "metadata": {},
     "output_type": "execute_result"
    }
   ],
   "source": [
    "# 비율로 내림차순 정렬, 상위 5개 출력\n",
    "df.sort_values('ratio', ascending=False).head(5)"
   ]
  },
  {
   "cell_type": "markdown",
   "metadata": {},
   "source": [
    "## 3. 유임승차 인원이 가장 많은 역과 가장 적은 역의 아래 필드명을 레이터 차트로 출력하는 기능 구현\n",
    "- 제공: 지하철 유무임별 이용현황.csv\n",
    "- 출력 필드 : 유임승차, 유임하차, 무임승차, 무임하차"
   ]
  },
  {
   "cell_type": "code",
   "execution_count": 19,
   "metadata": {},
   "outputs": [],
   "source": [
    "import matplotlib as mpl\n",
    "import matplotlib.pyplot as plt\n",
    "import pandas as pd\n",
    "from math import pi\n",
    "from matplotlib import font_manager\n",
    "columnList = ['유임승차', '유임하차', '무임승차', '무임하차']\n",
    "df = pd.read_csv(\"지하철 유무임별 이용현황.csv\", encoding='cp949')\n",
    "# type 변환\n",
    "for c in columnList:\n",
    "    df[c] = df[c].apply(lambda x: x.replace(\",\",\"\")).astype(int)\n",
    "df = df[columnList]"
   ]
  },
  {
   "cell_type": "code",
   "execution_count": 20,
   "metadata": {},
   "outputs": [],
   "source": [
    "num_cols= len(columnList)\n",
    "deg = [n / float(num_cols)*2*pi for n in range(num_cols)]\n",
    "deg += deg[:1]"
   ]
  },
  {
   "cell_type": "code",
   "execution_count": 21,
   "metadata": {},
   "outputs": [],
   "source": [
    "data_max = df.iloc[df['유임승차'].idxmax()].values.tolist()\n",
    "data_max += data_max[:1]\n",
    "data_min = df.iloc[df['유임승차'].idxmin()].values.tolist()\n",
    "data_min += data_min[:1]"
   ]
  },
  {
   "cell_type": "code",
   "execution_count": 22,
   "metadata": {},
   "outputs": [
    {
     "data": {
      "text/plain": [
       "['C:\\\\Windows\\\\Fonts\\\\lucon.ttf', 'C:\\\\Windows\\\\Fonts\\\\malgun.ttf']"
      ]
     },
     "execution_count": 22,
     "metadata": {},
     "output_type": "execute_result"
    }
   ],
   "source": [
    "font_list = font_manager.findSystemFonts(fontpaths = None, fontext = 'ttf')\n",
    "font_list[:]"
   ]
  },
  {
   "cell_type": "code",
   "execution_count": 23,
   "metadata": {},
   "outputs": [
    {
     "name": "stdout",
     "output_type": "stream",
     "text": [
      "C:\\Anaconda\\lib\\site-packages\\matplotlib\\mpl-data\\matplotlibrc\n"
     ]
    }
   ],
   "source": [
    "print(mpl.matplotlib_fname())"
   ]
  },
  {
   "cell_type": "code",
   "execution_count": 26,
   "metadata": {},
   "outputs": [
    {
     "name": "stdout",
     "output_type": "stream",
     "text": [
      "Malgun Gothic\n"
     ]
    },
    {
     "data": {
      "text/plain": [
       "Text(0.3, 0.3, '한글')"
      ]
     },
     "execution_count": 26,
     "metadata": {},
     "output_type": "execute_result"
    },
    {
     "data": {
      "image/png": "[encoded data removed]",
      "text/plain": [
       "<Figure size 432x288 with 1 Axes>"
      ]
     },
     "metadata": {
      "needs_background": "light"
     },
     "output_type": "display_data"
    }
   ],
   "source": [
    "font_path = font_list[1]\n",
    "font_name = font_manager.FontProperties(fname=font_path).get_name()\n",
    "print(font_name)\n",
    "plt.rc('font', family=font_name)\n",
    "plt.rc('axes', unicode_minus=False)\n",
    "plt.text(0.3, 0.3, '한글', size=100)"
   ]
  },
  {
   "cell_type": "code",
   "execution_count": 31,
   "metadata": {},
   "outputs": [
    {
     "data": {
      "text/plain": [
       "'C:\\\\Users\\\\ContainerAdministrator\\\\.matplotlib'"
      ]
     },
     "execution_count": 31,
     "metadata": {},
     "output_type": "execute_result"
    },
    {
     "data": {
      "image/png": "[encoded data removed]",
      "text/plain": [
       "<Figure size 432x288 with 1 Axes>"
      ]
     },
     "metadata": {
      "needs_background": "light"
     },
     "output_type": "display_data"
    }
   ],
   "source": [
    "plt.figure().add_subplot().set_title('한글')\n",
    "mpl.get_cachedir()"
   ]
  },
  {
   "cell_type": "code",
   "execution_count": 5,
   "metadata": {},
   "outputs": [
    {
     "data": {
      "text/plain": [
       "([<matplotlib.projections.polar.ThetaTick at 0x16c3fdf31f0>,\n",
       "  <matplotlib.projections.polar.ThetaTick at 0x16c43151160>,\n",
       "  <matplotlib.projections.polar.ThetaTick at 0x16c431ea3a0>,\n",
       "  <matplotlib.projections.polar.ThetaTick at 0x16c431ea970>],\n",
       " [Text(0, 0, '유임승차'),\n",
       "  Text(0, 0, '유임하차'),\n",
       "  Text(0, 0, '무임승차'),\n",
       "  Text(0, 0, '무임하차')])"
      ]
     },
     "execution_count": 5,
     "metadata": {},
     "output_type": "execute_result"
    },
    {
     "name": "stderr",
     "output_type": "stream",
     "text": [
      "C:\\Anaconda\\lib\\site-packages\\matplotlib\\backends\\backend_agg.py:214: RuntimeWarning: Glyph 50976 missing from current font.\n",
      "  font.set_text(s, 0.0, flags=flags)\n",
      "C:\\Anaconda\\lib\\site-packages\\matplotlib\\backends\\backend_agg.py:214: RuntimeWarning: Glyph 51076 missing from current font.\n",
      "  font.set_text(s, 0.0, flags=flags)\n",
      "C:\\Anaconda\\lib\\site-packages\\matplotlib\\backends\\backend_agg.py:214: RuntimeWarning: Glyph 49849 missing from current font.\n",
      "  font.set_text(s, 0.0, flags=flags)\n",
      "C:\\Anaconda\\lib\\site-packages\\matplotlib\\backends\\backend_agg.py:214: RuntimeWarning: Glyph 52264 missing from current font.\n",
      "  font.set_text(s, 0.0, flags=flags)\n",
      "C:\\Anaconda\\lib\\site-packages\\matplotlib\\backends\\backend_agg.py:214: RuntimeWarning: Glyph 54616 missing from current font.\n",
      "  font.set_text(s, 0.0, flags=flags)\n",
      "C:\\Anaconda\\lib\\site-packages\\matplotlib\\backends\\backend_agg.py:214: RuntimeWarning: Glyph 47924 missing from current font.\n",
      "  font.set_text(s, 0.0, flags=flags)\n",
      "C:\\Anaconda\\lib\\site-packages\\matplotlib\\backends\\backend_agg.py:183: RuntimeWarning: Glyph 50976 missing from current font.\n",
      "  font.set_text(s, 0, flags=flags)\n",
      "C:\\Anaconda\\lib\\site-packages\\matplotlib\\backends\\backend_agg.py:183: RuntimeWarning: Glyph 51076 missing from current font.\n",
      "  font.set_text(s, 0, flags=flags)\n",
      "C:\\Anaconda\\lib\\site-packages\\matplotlib\\backends\\backend_agg.py:183: RuntimeWarning: Glyph 49849 missing from current font.\n",
      "  font.set_text(s, 0, flags=flags)\n",
      "C:\\Anaconda\\lib\\site-packages\\matplotlib\\backends\\backend_agg.py:183: RuntimeWarning: Glyph 52264 missing from current font.\n",
      "  font.set_text(s, 0, flags=flags)\n",
      "C:\\Anaconda\\lib\\site-packages\\matplotlib\\backends\\backend_agg.py:183: RuntimeWarning: Glyph 54616 missing from current font.\n",
      "  font.set_text(s, 0, flags=flags)\n",
      "C:\\Anaconda\\lib\\site-packages\\matplotlib\\backends\\backend_agg.py:183: RuntimeWarning: Glyph 47924 missing from current font.\n",
      "  font.set_text(s, 0, flags=flags)\n"
     ]
    },
    {
     "data": {
      "image/png": "[encoded data removed]",
      "text/plain": [
       "<Figure size 432x288 with 1 Axes>"
      ]
     },
     "metadata": {
      "needs_background": "light"
     },
     "output_type": "display_data"
    }
   ],
   "source": [
    "plt.rc('font', family='Malgun Gothic')\n",
    "axis = plt.subplot(111, polar=True)\n",
    "plt.xticks(deg[:-1], columnList, color='Blue', size=10)"
   ]
  },
  {
   "cell_type": "code",
   "execution_count": null,
   "metadata": {},
   "outputs": [],
   "source": []
  }
 ],
 "metadata": {
  "kernelspec": {
   "display_name": "Python 3",
   "language": "python",
   "name": "python3"
  },
  "language_info": {
   "codemirror_mode": {
    "name": "ipython",
    "version": 3
   },
   "file_extension": ".py",
   "mimetype": "text/x-python",
   "name": "python",
   "nbconvert_exporter": "python",
   "pygments_lexer": "ipython3",
   "version": "3.8.3"
  }
 },
 "nbformat": 4,
 "nbformat_minor": 4
}
